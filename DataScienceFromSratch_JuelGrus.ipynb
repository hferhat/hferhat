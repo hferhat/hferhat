{
  "cells": [
    {
      "cell_type": "markdown",
      "metadata": {
        "id": "view-in-github",
        "colab_type": "text"
      },
      "source": [
        "<a href=\"https://colab.research.google.com/github/hferhat/hferhat/blob/main/DataScienceFromSratch_JuelGrus.ipynb\" target=\"_parent\"><img src=\"https://colab.research.google.com/assets/colab-badge.svg\" alt=\"Open In Colab\"/></a>"
      ]
    },
    {
      "cell_type": "code",
      "execution_count": 1,
      "metadata": {
        "id": "U9_Rl1SP6AXv"
      },
      "outputs": [],
      "source": [
        "import pandas as pd\n",
        "import numpy as np\n",
        "import math as mat\n",
        "from collections import Counter\n",
        "from collections import defaultdict\n",
        "import matplotlib.pyplot as plt\n",
        "from scipy.linalg import hankel , toeplitz, eig\n",
        "import sympy as sym"
      ]
    },
    {
      "cell_type": "markdown",
      "source": [
        "## **Juel** **Grus**"
      ],
      "metadata": {
        "id": "UVelnZcNn9RN"
      }
    },
    {
      "cell_type": "code",
      "execution_count": null,
      "metadata": {
        "id": "c6pxjOEYws89"
      },
      "outputs": [],
      "source": [
        "titanicData = pd.read_csv(\"/content/drive/MyDrive/Data Science/Python/Python_Pandas_Eğitim/titanic_train.csv\")"
      ]
    },
    {
      "cell_type": "code",
      "execution_count": null,
      "metadata": {
        "colab": {
          "base_uri": "https://localhost:8080/",
          "height": 459
        },
        "id": "RtzbZ_tzxTj0",
        "outputId": "4818a943-431a-497d-beca-5773f2dea00c"
      },
      "outputs": [
        {
          "data": {
            "text/html": [
              "\n",
              "  <div id=\"df-52634345-8b3d-44d3-82ac-ac816840513b\">\n",
              "    <div class=\"colab-df-container\">\n",
              "      <div>\n",
              "<style scoped>\n",
              "    .dataframe tbody tr th:only-of-type {\n",
              "        vertical-align: middle;\n",
              "    }\n",
              "\n",
              "    .dataframe tbody tr th {\n",
              "        vertical-align: top;\n",
              "    }\n",
              "\n",
              "    .dataframe thead th {\n",
              "        text-align: right;\n",
              "    }\n",
              "</style>\n",
              "<table border=\"1\" class=\"dataframe\">\n",
              "  <thead>\n",
              "    <tr style=\"text-align: right;\">\n",
              "      <th></th>\n",
              "      <th>PassengerId</th>\n",
              "      <th>Survived</th>\n",
              "      <th>Pclass</th>\n",
              "      <th>Name</th>\n",
              "      <th>Sex</th>\n",
              "      <th>Age</th>\n",
              "      <th>SibSp</th>\n",
              "      <th>Parch</th>\n",
              "      <th>Ticket</th>\n",
              "      <th>Fare</th>\n",
              "      <th>Cabin</th>\n",
              "      <th>Embarked</th>\n",
              "    </tr>\n",
              "  </thead>\n",
              "  <tbody>\n",
              "    <tr>\n",
              "      <th>0</th>\n",
              "      <td>1</td>\n",
              "      <td>0</td>\n",
              "      <td>3</td>\n",
              "      <td>Braund, Mr. Owen Harris</td>\n",
              "      <td>male</td>\n",
              "      <td>22.0</td>\n",
              "      <td>1</td>\n",
              "      <td>0</td>\n",
              "      <td>A/5 21171</td>\n",
              "      <td>7.2500</td>\n",
              "      <td>NaN</td>\n",
              "      <td>S</td>\n",
              "    </tr>\n",
              "    <tr>\n",
              "      <th>1</th>\n",
              "      <td>2</td>\n",
              "      <td>1</td>\n",
              "      <td>1</td>\n",
              "      <td>Cumings, Mrs. John Bradley (Florence Briggs Th...</td>\n",
              "      <td>female</td>\n",
              "      <td>38.0</td>\n",
              "      <td>1</td>\n",
              "      <td>0</td>\n",
              "      <td>PC 17599</td>\n",
              "      <td>71.2833</td>\n",
              "      <td>C85</td>\n",
              "      <td>C</td>\n",
              "    </tr>\n",
              "    <tr>\n",
              "      <th>2</th>\n",
              "      <td>3</td>\n",
              "      <td>1</td>\n",
              "      <td>3</td>\n",
              "      <td>Heikkinen, Miss. Laina</td>\n",
              "      <td>female</td>\n",
              "      <td>26.0</td>\n",
              "      <td>0</td>\n",
              "      <td>0</td>\n",
              "      <td>STON/O2. 3101282</td>\n",
              "      <td>7.9250</td>\n",
              "      <td>NaN</td>\n",
              "      <td>S</td>\n",
              "    </tr>\n",
              "    <tr>\n",
              "      <th>3</th>\n",
              "      <td>4</td>\n",
              "      <td>1</td>\n",
              "      <td>1</td>\n",
              "      <td>Futrelle, Mrs. Jacques Heath (Lily May Peel)</td>\n",
              "      <td>female</td>\n",
              "      <td>35.0</td>\n",
              "      <td>1</td>\n",
              "      <td>0</td>\n",
              "      <td>113803</td>\n",
              "      <td>53.1000</td>\n",
              "      <td>C123</td>\n",
              "      <td>S</td>\n",
              "    </tr>\n",
              "    <tr>\n",
              "      <th>4</th>\n",
              "      <td>5</td>\n",
              "      <td>0</td>\n",
              "      <td>3</td>\n",
              "      <td>Allen, Mr. William Henry</td>\n",
              "      <td>male</td>\n",
              "      <td>35.0</td>\n",
              "      <td>0</td>\n",
              "      <td>0</td>\n",
              "      <td>373450</td>\n",
              "      <td>8.0500</td>\n",
              "      <td>NaN</td>\n",
              "      <td>S</td>\n",
              "    </tr>\n",
              "    <tr>\n",
              "      <th>5</th>\n",
              "      <td>6</td>\n",
              "      <td>0</td>\n",
              "      <td>3</td>\n",
              "      <td>Moran, Mr. James</td>\n",
              "      <td>male</td>\n",
              "      <td>NaN</td>\n",
              "      <td>0</td>\n",
              "      <td>0</td>\n",
              "      <td>330877</td>\n",
              "      <td>8.4583</td>\n",
              "      <td>NaN</td>\n",
              "      <td>Q</td>\n",
              "    </tr>\n",
              "    <tr>\n",
              "      <th>6</th>\n",
              "      <td>7</td>\n",
              "      <td>0</td>\n",
              "      <td>1</td>\n",
              "      <td>McCarthy, Mr. Timothy J</td>\n",
              "      <td>male</td>\n",
              "      <td>54.0</td>\n",
              "      <td>0</td>\n",
              "      <td>0</td>\n",
              "      <td>17463</td>\n",
              "      <td>51.8625</td>\n",
              "      <td>E46</td>\n",
              "      <td>S</td>\n",
              "    </tr>\n",
              "    <tr>\n",
              "      <th>7</th>\n",
              "      <td>8</td>\n",
              "      <td>0</td>\n",
              "      <td>3</td>\n",
              "      <td>Palsson, Master. Gosta Leonard</td>\n",
              "      <td>male</td>\n",
              "      <td>2.0</td>\n",
              "      <td>3</td>\n",
              "      <td>1</td>\n",
              "      <td>349909</td>\n",
              "      <td>21.0750</td>\n",
              "      <td>NaN</td>\n",
              "      <td>S</td>\n",
              "    </tr>\n",
              "    <tr>\n",
              "      <th>8</th>\n",
              "      <td>9</td>\n",
              "      <td>1</td>\n",
              "      <td>3</td>\n",
              "      <td>Johnson, Mrs. Oscar W (Elisabeth Vilhelmina Berg)</td>\n",
              "      <td>female</td>\n",
              "      <td>27.0</td>\n",
              "      <td>0</td>\n",
              "      <td>2</td>\n",
              "      <td>347742</td>\n",
              "      <td>11.1333</td>\n",
              "      <td>NaN</td>\n",
              "      <td>S</td>\n",
              "    </tr>\n",
              "    <tr>\n",
              "      <th>9</th>\n",
              "      <td>10</td>\n",
              "      <td>1</td>\n",
              "      <td>2</td>\n",
              "      <td>Nasser, Mrs. Nicholas (Adele Achem)</td>\n",
              "      <td>female</td>\n",
              "      <td>14.0</td>\n",
              "      <td>1</td>\n",
              "      <td>0</td>\n",
              "      <td>237736</td>\n",
              "      <td>30.0708</td>\n",
              "      <td>NaN</td>\n",
              "      <td>C</td>\n",
              "    </tr>\n",
              "  </tbody>\n",
              "</table>\n",
              "</div>\n",
              "      <button class=\"colab-df-convert\" onclick=\"convertToInteractive('df-52634345-8b3d-44d3-82ac-ac816840513b')\"\n",
              "              title=\"Convert this dataframe to an interactive table.\"\n",
              "              style=\"display:none;\">\n",
              "        \n",
              "  <svg xmlns=\"http://www.w3.org/2000/svg\" height=\"24px\"viewBox=\"0 0 24 24\"\n",
              "       width=\"24px\">\n",
              "    <path d=\"M0 0h24v24H0V0z\" fill=\"none\"/>\n",
              "    <path d=\"M18.56 5.44l.94 2.06.94-2.06 2.06-.94-2.06-.94-.94-2.06-.94 2.06-2.06.94zm-11 1L8.5 8.5l.94-2.06 2.06-.94-2.06-.94L8.5 2.5l-.94 2.06-2.06.94zm10 10l.94 2.06.94-2.06 2.06-.94-2.06-.94-.94-2.06-.94 2.06-2.06.94z\"/><path d=\"M17.41 7.96l-1.37-1.37c-.4-.4-.92-.59-1.43-.59-.52 0-1.04.2-1.43.59L10.3 9.45l-7.72 7.72c-.78.78-.78 2.05 0 2.83L4 21.41c.39.39.9.59 1.41.59.51 0 1.02-.2 1.41-.59l7.78-7.78 2.81-2.81c.8-.78.8-2.07 0-2.86zM5.41 20L4 18.59l7.72-7.72 1.47 1.35L5.41 20z\"/>\n",
              "  </svg>\n",
              "      </button>\n",
              "      \n",
              "  <style>\n",
              "    .colab-df-container {\n",
              "      display:flex;\n",
              "      flex-wrap:wrap;\n",
              "      gap: 12px;\n",
              "    }\n",
              "\n",
              "    .colab-df-convert {\n",
              "      background-color: #E8F0FE;\n",
              "      border: none;\n",
              "      border-radius: 50%;\n",
              "      cursor: pointer;\n",
              "      display: none;\n",
              "      fill: #1967D2;\n",
              "      height: 32px;\n",
              "      padding: 0 0 0 0;\n",
              "      width: 32px;\n",
              "    }\n",
              "\n",
              "    .colab-df-convert:hover {\n",
              "      background-color: #E2EBFA;\n",
              "      box-shadow: 0px 1px 2px rgba(60, 64, 67, 0.3), 0px 1px 3px 1px rgba(60, 64, 67, 0.15);\n",
              "      fill: #174EA6;\n",
              "    }\n",
              "\n",
              "    [theme=dark] .colab-df-convert {\n",
              "      background-color: #3B4455;\n",
              "      fill: #D2E3FC;\n",
              "    }\n",
              "\n",
              "    [theme=dark] .colab-df-convert:hover {\n",
              "      background-color: #434B5C;\n",
              "      box-shadow: 0px 1px 3px 1px rgba(0, 0, 0, 0.15);\n",
              "      filter: drop-shadow(0px 1px 2px rgba(0, 0, 0, 0.3));\n",
              "      fill: #FFFFFF;\n",
              "    }\n",
              "  </style>\n",
              "\n",
              "      <script>\n",
              "        const buttonEl =\n",
              "          document.querySelector('#df-52634345-8b3d-44d3-82ac-ac816840513b button.colab-df-convert');\n",
              "        buttonEl.style.display =\n",
              "          google.colab.kernel.accessAllowed ? 'block' : 'none';\n",
              "\n",
              "        async function convertToInteractive(key) {\n",
              "          const element = document.querySelector('#df-52634345-8b3d-44d3-82ac-ac816840513b');\n",
              "          const dataTable =\n",
              "            await google.colab.kernel.invokeFunction('convertToInteractive',\n",
              "                                                     [key], {});\n",
              "          if (!dataTable) return;\n",
              "\n",
              "          const docLinkHtml = 'Like what you see? Visit the ' +\n",
              "            '<a target=\"_blank\" href=https://colab.research.google.com/notebooks/data_table.ipynb>data table notebook</a>'\n",
              "            + ' to learn more about interactive tables.';\n",
              "          element.innerHTML = '';\n",
              "          dataTable['output_type'] = 'display_data';\n",
              "          await google.colab.output.renderOutput(dataTable, element);\n",
              "          const docLink = document.createElement('div');\n",
              "          docLink.innerHTML = docLinkHtml;\n",
              "          element.appendChild(docLink);\n",
              "        }\n",
              "      </script>\n",
              "    </div>\n",
              "  </div>\n",
              "  "
            ],
            "text/plain": [
              "   PassengerId  Survived  Pclass  ...     Fare Cabin  Embarked\n",
              "0            1         0       3  ...   7.2500   NaN         S\n",
              "1            2         1       1  ...  71.2833   C85         C\n",
              "2            3         1       3  ...   7.9250   NaN         S\n",
              "3            4         1       1  ...  53.1000  C123         S\n",
              "4            5         0       3  ...   8.0500   NaN         S\n",
              "5            6         0       3  ...   8.4583   NaN         Q\n",
              "6            7         0       1  ...  51.8625   E46         S\n",
              "7            8         0       3  ...  21.0750   NaN         S\n",
              "8            9         1       3  ...  11.1333   NaN         S\n",
              "9           10         1       2  ...  30.0708   NaN         C\n",
              "\n",
              "[10 rows x 12 columns]"
            ]
          },
          "execution_count": 3,
          "metadata": {},
          "output_type": "execute_result"
        }
      ],
      "source": [
        "titanicData.head(10)"
      ]
    },
    {
      "cell_type": "code",
      "execution_count": null,
      "metadata": {
        "colab": {
          "base_uri": "https://localhost:8080/"
        },
        "id": "Hty8673ONbUY",
        "outputId": "ec8bc135-b4ee-47c5-9c4d-11b4882875e1"
      },
      "outputs": [
        {
          "name": "stdout",
          "output_type": "stream",
          "text": [
            "My name isMike. I am now 10 years old, and in 6 years I'll be 16 years old. \"kapak\" \n"
          ]
        }
      ],
      "source": [
        "name = 'Mike'\n",
        "age = 10\n",
        "\n",
        "print('My name is' + name + '. I am now '+ str(age) + ' years old, \\\n",
        "and in 6 years I\\'ll be ' + str(age+6) + ' years old. \\\n",
        "\\\"kapak\\\" ')\n"
      ]
    },
    {
      "cell_type": "code",
      "execution_count": null,
      "metadata": {
        "colab": {
          "base_uri": "https://localhost:8080/"
        },
        "id": "nNgICl-UxZfR",
        "outputId": "b20fb9af-48d9-44b0-d153-f9f05d8f0765"
      },
      "outputs": [
        {
          "name": "stdout",
          "output_type": "stream",
          "text": [
            "[  4.          10.85714286  17.71428571  24.57142857  31.42857143\n",
            "  38.28571429  45.14285714  52.          58.85714286  65.71428571\n",
            "  72.57142857  79.42857143  86.28571429  93.14285714 100.        ]\n"
          ]
        }
      ],
      "source": [
        "list1 = np.linspace(4,100,15)\n",
        "print(list1)"
      ]
    },
    {
      "cell_type": "code",
      "execution_count": null,
      "metadata": {
        "colab": {
          "base_uri": "https://localhost:8080/"
        },
        "id": "7XRWAAB3xmQ2",
        "outputId": "bd73eeb7-c724-40e9-d74e-c18ab8249eee"
      },
      "outputs": [
        {
          "name": "stdout",
          "output_type": "stream",
          "text": [
            "[  4.  11.  18.  25.  31.  38.  45.  52.  59.  66.  73.  79.  86.  93.\n",
            " 100.]\n"
          ]
        }
      ],
      "source": [
        "list2 = np.round(list1)\n",
        "print(list2)\n"
      ]
    },
    {
      "cell_type": "code",
      "execution_count": null,
      "metadata": {
        "colab": {
          "base_uri": "https://localhost:8080/"
        },
        "id": "IIA9fGPixvCz",
        "outputId": "013f5304-725f-4c83-8c76-94449f0aea93"
      },
      "outputs": [
        {
          "name": "stdout",
          "output_type": "stream",
          "text": [
            "[2.0, 3.3166247903554, 4.242640687119285, 5.0, 5.5677643628300215, 6.164414002968976, 6.708203932499369, 7.211102550927978, 7.681145747868608, 8.12403840463596, 8.54400374531753, 8.888194417315589, 9.273618495495704, 9.643650760992955, 10.0]\n"
          ]
        }
      ],
      "source": [
        "list3 = list(map(lambda x: mat.sqrt(x), list2))\n",
        "print(list3)"
      ]
    },
    {
      "cell_type": "code",
      "execution_count": null,
      "metadata": {
        "colab": {
          "base_uri": "https://localhost:8080/"
        },
        "id": "EaYvJ4H0CRyy",
        "outputId": "97a19420-4a00-405e-cc70-2d255265fabb"
      },
      "outputs": [
        {
          "name": "stdout",
          "output_type": "stream",
          "text": [
            "[-9 -8 -7 -6 -5 -4 -3 -2 -1  0  1  2  3  4  5  6  7  8  9]\n",
            "[-9. -8. -7. -6. -5. -4. -3. -2. -1.  0.  1.  2.  3.  4.  5.  6.  7.  8.\n",
            "  9. 10.]\n"
          ]
        }
      ],
      "source": [
        "liss1 = np.arange(-9,10)\n",
        "liss2 = np.linspace(-9,10,20)\n",
        "\n",
        "print(liss1)\n",
        "print(liss2)"
      ]
    },
    {
      "cell_type": "code",
      "execution_count": null,
      "metadata": {
        "colab": {
          "base_uri": "https://localhost:8080/",
          "height": 265
        },
        "id": "nsB7FygpzXCh",
        "outputId": "14d81a09-9f1f-44a5-c1f8-6854252682d8"
      },
      "outputs": [
        {
          "data": {
            "image/png": "[encoded data removed]",
            "text/plain": [
              "<Figure size 432x288 with 1 Axes>"
            ]
          },
          "metadata": {},
          "output_type": "display_data"
        }
      ],
      "source": [
        "plt1 = np.arange(-9,10)\n",
        "plt2 = list(map(lambda x:x**2,plt1))\n",
        "#print(plt1)\n",
        "#plt.plot([1,100],[3,5],'-',color = 'r')\n",
        "\n",
        "plt.plot(plt1,plt2,'o',label=\"x2\")\n",
        "plt.legend()\n",
        "plt.show()"
      ]
    },
    {
      "cell_type": "code",
      "execution_count": null,
      "metadata": {
        "colab": {
          "base_uri": "https://localhost:8080/",
          "height": 282
        },
        "id": "5L7bduuURbx1",
        "outputId": "53a39044-5fff-458a-de29-fc63551dd352"
      },
      "outputs": [
        {
          "data": {
            "text/plain": [
              "[<matplotlib.lines.Line2D at 0x7fae15cf1390>]"
            ]
          },
          "execution_count": 10,
          "metadata": {},
          "output_type": "execute_result"
        },
        {
          "data": {
            "image/png": "[encoded data removed]",
            "text/plain": [
              "<Figure size 432x288 with 1 Axes>"
            ]
          },
          "metadata": {},
          "output_type": "display_data"
        }
      ],
      "source": [
        "plt.plot(3,10,'s')"
      ]
    },
    {
      "cell_type": "code",
      "execution_count": null,
      "metadata": {
        "colab": {
          "base_uri": "https://localhost:8080/",
          "height": 282
        },
        "id": "AWR3rF0wRt9h",
        "outputId": "c261b0d9-4fcc-4528-fa46-68056c7564c8"
      },
      "outputs": [
        {
          "data": {
            "text/plain": [
              "[<matplotlib.lines.Line2D at 0x7fae15c62210>]"
            ]
          },
          "execution_count": 11,
          "metadata": {},
          "output_type": "execute_result"
        },
        {
          "data": {
            "image/png": "[encoded data removed]",
            "text/plain": [
              "<Figure size 432x288 with 1 Axes>"
            ]
          },
          "metadata": {},
          "output_type": "display_data"
        }
      ],
      "source": [
        "plt.plot([9,6],[3,4],'rs-')"
      ]
    },
    {
      "cell_type": "code",
      "execution_count": null,
      "metadata": {
        "colab": {
          "base_uri": "https://localhost:8080/",
          "height": 408
        },
        "id": "kMe7PGrx97lO",
        "outputId": "12960547-1f1b-4736-d4f7-35d48b1926c3"
      },
      "outputs": [
        {
          "name": "stdout",
          "output_type": "stream",
          "text": [
            "[[6 6 7 7 1]\n",
            " [5 6 9 0 2]\n",
            " [8 8 8 6 2]\n",
            " [6 5 8 3 7]\n",
            " [6 9 8 3 6]\n",
            " [5 1 8 8 0]\n",
            " [6 4 5 4 1]\n",
            " [3 2 0 2 9]]\n"
          ]
        },
        {
          "data": {
            "image/png": "[encoded data removed]",
            "text/plain": [
              "<Figure size 432x288 with 1 Axes>"
            ]
          },
          "metadata": {},
          "output_type": "display_data"
        }
      ],
      "source": [
        "plt3 = np.random.randint(0,10,size=(8,5))\n",
        "print(plt3)\n",
        "\n",
        "plt.imshow(plt3)\n",
        "plt.plot(plt1,plt2,'o',label=\"x2\")\n",
        "plt.plot([1,10],[1,10],'-',color = 'r')\n",
        "plt.plot([1,10],[10,1],'-',color = 'g')\n",
        "plt.ylim(0,10)\n",
        "plt.xlim(0,10)\n",
        "plt.show()"
      ]
    },
    {
      "cell_type": "code",
      "execution_count": null,
      "metadata": {
        "colab": {
          "base_uri": "https://localhost:8080/"
        },
        "id": "T3SJ8G5JEMc-",
        "outputId": "12ec9076-ef5c-4da9-ebfb-2f5191a999b1"
      },
      "outputs": [
        {
          "name": "stdout",
          "output_type": "stream",
          "text": [
            "[6, 4]\n",
            "[8, 9]\n"
          ]
        }
      ],
      "source": [
        "vector1 = list(np.array(np.random.randint(0,10,size=(2))))\n",
        "print(vector1)\n",
        "vector2 = list(np.array(np.random.randint(0,10,size=(2))))\n",
        "print(vector2)"
      ]
    },
    {
      "cell_type": "code",
      "execution_count": null,
      "metadata": {
        "colab": {
          "base_uri": "https://localhost:8080/"
        },
        "id": "m8742FN4JwAl",
        "outputId": "f6d6f756-3025-4e41-9a13-d8e4317af19d"
      },
      "outputs": [
        {
          "name": "stdout",
          "output_type": "stream",
          "text": [
            "[6, 4]\n",
            "[8, 9]\n",
            "[6, 4, 8, 9]\n",
            "[14, 13]\n"
          ]
        }
      ],
      "source": [
        "print(vector1)\n",
        "print(vector2)\n",
        "vector3 = list(np.array(vector1) + np.array(vector2))\n",
        "print(vector1+vector2)\n",
        "print(vector3)"
      ]
    },
    {
      "cell_type": "code",
      "execution_count": null,
      "metadata": {
        "colab": {
          "base_uri": "https://localhost:8080/"
        },
        "id": "CvPc8fl3Etiq",
        "outputId": "af6e08d4-46f2-4144-f4c2-7dd55c94af7a"
      },
      "outputs": [
        {
          "name": "stdout",
          "output_type": "stream",
          "text": [
            "[(0, 6), (0, 4)]\n",
            "[(0, 8), (0, 9)]\n"
          ]
        }
      ],
      "source": [
        "vctr1 = list(zip([0,0],vector1))\n",
        "vctr2 = list(zip([0,0],vector2))\n",
        "\n",
        "print(vctr1)\n",
        "print(vctr2)"
      ]
    },
    {
      "cell_type": "code",
      "execution_count": null,
      "metadata": {
        "colab": {
          "base_uri": "https://localhost:8080/",
          "height": 265
        },
        "id": "RjsZBT_fIjVr",
        "outputId": "e5c700e7-d68d-463d-eb87-2c67cf2ec7fd"
      },
      "outputs": [
        {
          "data": {
            "image/png": "[encoded data removed]",
            "text/plain": [
              "<Figure size 432x288 with 1 Axes>"
            ]
          },
          "metadata": {},
          "output_type": "display_data"
        }
      ],
      "source": [
        "plt.plot(vctr1[0],vctr1[1],'bs-',label=\"vector1\")\n",
        "plt.plot(vctr2[0],vctr2[1],'rs-',label=\"vector2\")\n",
        "plt.show()"
      ]
    },
    {
      "cell_type": "code",
      "execution_count": null,
      "metadata": {
        "colab": {
          "base_uri": "https://localhost:8080/",
          "height": 338
        },
        "id": "C1B0nlgDITw5",
        "outputId": "643a76af-c262-4bad-e7be-c410016b9b30"
      },
      "outputs": [
        {
          "data": {
            "image/png": "[encoded data removed]",
            "text/plain": [
              "<Figure size 432x288 with 1 Axes>"
            ]
          },
          "metadata": {},
          "output_type": "display_data"
        },
        {
          "name": "stdout",
          "output_type": "stream",
          "text": [
            "[6, 4]\n",
            "[8, 9]\n",
            "[14, 13]\n",
            "\n"
          ]
        }
      ],
      "source": [
        "vector3 = list(np.array(vector1) + np.array(vector2))\n",
        "vctr3 = list(zip([0,0],vector3))\n",
        "\n",
        "plt.plot(vctr1[0],vctr1[1],'bs-',label=\"vector1\")\n",
        "#plt.plot([vector1[0],vector3[0]],[vector1[1],vector3[1]],'rs-',label=\"vector2\")\n",
        "plt.plot([vector1[0],vector1[0]+vector2[0]],[vector1[1],vector1[1]+vector2[1]],'rs-',label=\"vector1+vector2\")\n",
        "#plt.plot(vctr3[0],vctr3[1],'gs-',label=\"vector1 + vector2\")\n",
        "plt.plot([0,vector1[0]+vector2[0]],[0,vector1[1]+vector2[1]],'gs-',label=\"vector1 + vector2\")\n",
        "\n",
        "plt.xlim(0,10)\n",
        "plt.ylim(0,20)\n",
        "plt.legend()\n",
        "plt.show()\n",
        "\n",
        "print(vector1)\n",
        "print(vector2)\n",
        "print(vector3)\n",
        "print()"
      ]
    },
    {
      "cell_type": "code",
      "execution_count": null,
      "metadata": {
        "colab": {
          "base_uri": "https://localhost:8080/",
          "height": 338
        },
        "id": "O2Nvyi-dOZwZ",
        "outputId": "324aef99-73d8-4f6b-c0ea-9661dd76f301"
      },
      "outputs": [
        {
          "data": {
            "image/png": "[encoded data removed]",
            "text/plain": [
              "<Figure size 432x288 with 1 Axes>"
            ]
          },
          "metadata": {},
          "output_type": "display_data"
        },
        {
          "name": "stdout",
          "output_type": "stream",
          "text": [
            "[6, 4]\n",
            "[8, 9]\n",
            "[-2, -5]\n",
            "[(0, -2), (0, -5)]\n"
          ]
        }
      ],
      "source": [
        "vector3 = list(np.array(vector1) + -1*np.array(vector2))\n",
        "vctr3 = list(zip([0,0],vector3))\n",
        "\n",
        "plt.plot(vctr1[0],vctr1[1],'bs-',label=\"vector1\")\n",
        "plt.plot([vector1[0],vector3[0]],[vector1[1],vector3[1]],'rs-',label=\"vector2\")\n",
        "plt.plot(vctr3[0],vctr3[1],'gs-',label=\"vector1 - vector2\")\n",
        "plt.xlim(-10,10)\n",
        "plt.ylim(-10,20)\n",
        "plt.legend()\n",
        "plt.show()\n",
        "\n",
        "print(vector1)\n",
        "print(vector2)\n",
        "print(vector3)\n",
        "print(vctr3)"
      ]
    },
    {
      "cell_type": "code",
      "execution_count": null,
      "metadata": {
        "colab": {
          "base_uri": "https://localhost:8080/",
          "height": 321
        },
        "id": "dnwxfK0zNPNz",
        "outputId": "1f08a2a5-6fe5-426b-dcfb-c659a8a9ff81"
      },
      "outputs": [
        {
          "name": "stdout",
          "output_type": "stream",
          "text": [
            "v1.v2= 0\n",
            "v1.v3= 54\n",
            "v2.v3= 22\n"
          ]
        },
        {
          "data": {
            "image/png": "[encoded data removed]",
            "text/plain": [
              "<Figure size 432x288 with 1 Axes>"
            ]
          },
          "metadata": {},
          "output_type": "display_data"
        }
      ],
      "source": [
        "#Orthogonality:\n",
        "\n",
        "v1 = [6,3]\n",
        "v2 = [-2,4]\n",
        "v3 = [5,8]\n",
        "\n",
        "print(\"v1.v2=\",np.dot(v1,v2))\n",
        "print(\"v1.v3=\",np.dot(v1,v3))\n",
        "print(\"v2.v3=\",np.dot(v2,v3))\n",
        "\n",
        "plt.plot([0,v1[0]],[0,v1[1]],'rs-',label=\"v1\")\n",
        "plt.plot([0,v2[0]],[0,v2[1]],'bs-',label=\"v2\")\n",
        "plt.plot([0,v3[0]],[0,v3[1]],'gs-',label=\"v3\")\n",
        "\n",
        "plt.xlim(-10,10)\n",
        "plt.ylim(-10,20)\n",
        "plt.legend()\n",
        "plt.grid()\n",
        "\n",
        "plt.show()\n",
        "\n"
      ]
    },
    {
      "cell_type": "code",
      "execution_count": null,
      "metadata": {
        "colab": {
          "base_uri": "https://localhost:8080/"
        },
        "id": "-lKKNN64fIZx",
        "outputId": "4b606342-6664-4d78-a415-f67fa009a771"
      },
      "outputs": [
        {
          "name": "stdout",
          "output_type": "stream",
          "text": [
            "[[-14.   5.   1.]\n",
            " [-14.  -1.   1.]\n",
            " [  5.  -6.  -4.]]\n",
            "[[1. 0. 0.]\n",
            " [0. 1. 0.]\n",
            " [0. 0. 1.]]\n",
            "[[0.]\n",
            " [0.]\n",
            " [0.]]\n",
            "[[-14. -14.   5.]\n",
            " [  5.  -1.  -6.]\n",
            " [  1.   1.  -4.]]\n"
          ]
        }
      ],
      "source": [
        "matrix = np.round(10*np.random.randn(3,3))\n",
        "print(matrix)\n",
        "\n",
        "identity = np.eye(3,3)\n",
        "print(identity)\n",
        "\n",
        "zeros = np.zeros((3,1))\n",
        "print(zeros)\n",
        "\n",
        "matrixT = matrix.T\n",
        "print(matrixT)\n"
      ]
    },
    {
      "cell_type": "code",
      "execution_count": null,
      "metadata": {
        "colab": {
          "base_uri": "https://localhost:8080/"
        },
        "id": "z0YDfSZEgMs8",
        "outputId": "e4f4e0f6-1134-43b9-c671-1aaa7b816a86"
      },
      "outputs": [
        {
          "name": "stdout",
          "output_type": "stream",
          "text": [
            "matrix \n",
            " [[-14.   5.   1.]\n",
            " [-14.  -1.   1.]\n",
            " [  5.  -6.  -4.]]\n",
            "identity \n",
            " [[-14.   5.   1.]\n",
            " [-14.  -1.   1.]\n",
            " [  5.  -6.  -4.]]\n",
            "zeros \n",
            " [[0.]\n",
            " [0.]\n",
            " [0.]]\n",
            "transpoze \n",
            " [[ 222.  192. -104.]\n",
            " [ 192.  198.  -68.]\n",
            " [-104.  -68.   77.]]\n"
          ]
        }
      ],
      "source": [
        "print(\"matrix \\n\",matrix)\n",
        "\n",
        "print(\"identity \\n\",np.matmul(matrix,identity))\n",
        "print(\"zeros \\n\",np.matmul(matrix,zeros))\n",
        "print(\"transpoze \\n\",np.matmul(matrix,matrixT))"
      ]
    },
    {
      "cell_type": "code",
      "execution_count": null,
      "metadata": {
        "colab": {
          "base_uri": "https://localhost:8080/"
        },
        "id": "NlDc4j3Ri9oq",
        "outputId": "d4ef1c58-8dfd-4f8f-e9f2-9bfa223abddf"
      },
      "outputs": [
        {
          "name": "stdout",
          "output_type": "stream",
          "text": [
            "[[ 0.07472617  0.41423895 -0.30865718  0.62973862]\n",
            " [ 1.6967355  -0.10997335 -0.22557168  0.84875327]\n",
            " [ 1.23909541 -0.23475027  0.24911473  1.87391811]\n",
            " [ 0.87785395  1.10685434  0.49656985 -0.70370246]]\n",
            " \n",
            "[[-0.30385769  0.61264475 -0.11931246  0.14928401]\n",
            " [ 0.99750529 -0.28861359 -0.01758013  0.49774184]\n",
            " [-1.03034801 -0.89621355  0.93826879  0.4955571 ]\n",
            " [ 0.46285276 -0.32211515  0.48560073 -0.10223642]]\n",
            " \n",
            "[[ 1.00000000e+00 -1.18317649e-16  3.15141065e-17  2.37743053e-17]\n",
            " [ 5.67852195e-17  1.00000000e+00 -3.83437492e-17  6.71691042e-17]\n",
            " [ 1.70443878e-16 -2.47637215e-16  1.00000000e+00 -3.12871454e-18]\n",
            " [-4.64869502e-17 -1.41483783e-16 -1.24173951e-16  1.00000000e+00]]\n"
          ]
        }
      ],
      "source": [
        "A = np.random.randn(4,4)\n",
        "\n",
        "Ainv = np.linalg.inv(A)\n",
        "\n",
        "AinvA = A@Ainv\n",
        "\n",
        "print(A)\n",
        "print(' ')\n",
        "print(Ainv)\n",
        "print(' ')\n",
        "print(AinvA)"
      ]
    },
    {
      "cell_type": "code",
      "execution_count": null,
      "metadata": {
        "colab": {
          "base_uri": "https://localhost:8080/",
          "height": 344
        },
        "id": "By8WB-J7jl4f",
        "outputId": "26df321c-532d-46a5-d7ca-6780e26ef235"
      },
      "outputs": [
        {
          "output_type": "stream",
          "name": "stderr",
          "text": [
            "/usr/local/lib/python3.7/dist-packages/ipykernel_launcher.py:5: MatplotlibDeprecationWarning: Adding an axes using the same arguments as a previous axes currently reuses the earlier instance.  In a future version, a new instance will always be created and returned.  Meanwhile, this warning can be suppressed, and the future behavior ensured, by passing a unique label to each axes instance.\n",
            "  \"\"\"\n"
          ]
        },
        {
          "output_type": "execute_result",
          "data": {
            "application/vnd.google.colaboratory.intrinsic+json": {
              "type": "string"
            },
            "text/plain": [
              "'\\n# delete ax2 from the figure\\nplt.delaxes(ax2)\\n\\n# add ax2 to the figure again\\nplt.subplot(ax2)\\n\\n'"
            ]
          },
          "metadata": {},
          "execution_count": 8
        },
        {
          "output_type": "display_data",
          "data": {
            "image/png": "[encoded data removed]",
            "text/plain": [
              "<Figure size 432x288 with 4 Axes>"
            ]
          },
          "metadata": {
            "needs_background": "light"
          }
        }
      ],
      "source": [
        "plt.subplot(221)\n",
        "\n",
        "\n",
        "# equivalent but more general\n",
        "ax1=plt.subplot(2, 2, 1)\n",
        "\n",
        "\n",
        "# add a subplot with no frame\n",
        "ax2=plt.subplot(222, frameon=False)\n",
        "\n",
        "\n",
        "# add a polar subplot\n",
        "plt.subplot(223, projection='polar')\n",
        "\n",
        "\n",
        "# add a red subplot that shares the x-axis with ax1\n",
        "plt.subplot(224, sharex=ax1, facecolor='red')\n",
        "\n",
        "'''\n",
        "# delete ax2 from the figure\n",
        "plt.delaxes(ax2)\n",
        "\n",
        "# add ax2 to the figure again\n",
        "plt.subplot(ax2)\n",
        "\n",
        "'''"
      ]
    },
    {
      "cell_type": "code",
      "execution_count": null,
      "metadata": {
        "colab": {
          "base_uri": "https://localhost:8080/",
          "height": 234
        },
        "id": "SClg5QKFk3_c",
        "outputId": "22dcd73e-5b8d-4201-cc20-ac4679e0e73b"
      },
      "outputs": [
        {
          "data": {
            "text/plain": [
              "<matplotlib.image.AxesImage at 0x7fae15b0aa90>"
            ]
          },
          "execution_count": 24,
          "metadata": {},
          "output_type": "execute_result"
        },
        {
          "data": {
            "image/png": "[encoded data removed]",
            "text/plain": [
              "<Figure size 720x720 with 3 Axes>"
            ]
          },
          "metadata": {},
          "output_type": "display_data"
        }
      ],
      "source": [
        "fig,ax = plt.subplots(1,3,figsize=(10,10))\n",
        "\n",
        "ax[0].imshow(A)\n",
        "ax[1].imshow(Ainv)\n",
        "ax[2].imshow(AinvA)"
      ]
    },
    {
      "cell_type": "markdown",
      "metadata": {
        "id": "3bRCK3owirYb"
      },
      "source": [
        "## LINEAR ALGEBRA"
      ]
    },
    {
      "cell_type": "markdown",
      "source": [
        "#Chapter 1-8"
      ],
      "metadata": {
        "id": "LKOMqoTU7TOn"
      }
    },
    {
      "cell_type": "code",
      "source": [
        "A1 = np.linspace(-10,10,11)\n",
        "A2 = A1/2 +2\n",
        "\n",
        "B1 = np.linspace(-10,10,11)\n",
        "B2 = -1*B1 + 4\n",
        "\n",
        "print(A1)\n",
        "print(A2);\n",
        "\n",
        "plt.plot(A1,A2,\"-r\")\n",
        "plt.plot(B1,B2,\"-b\")\n",
        "plt.xlim(-20,20)\n",
        "plt.ylim(-20,20)\n",
        "plt.show()\n",
        "plt.grid()\n",
        "plt.show()\n"
      ],
      "metadata": {
        "colab": {
          "base_uri": "https://localhost:8080/",
          "height": 340
        },
        "id": "L1w56Gg0QZO2",
        "outputId": "f6e5bc9f-7766-4ae1-b882-554187d6860b"
      },
      "execution_count": null,
      "outputs": [
        {
          "output_type": "stream",
          "name": "stdout",
          "text": [
            "[-10.  -8.  -6.  -4.  -2.   0.   2.   4.   6.   8.  10.]\n",
            "[-3. -2. -1.  0.  1.  2.  3.  4.  5.  6.  7.]\n"
          ]
        },
        {
          "output_type": "display_data",
          "data": {
            "image/png": "[encoded data removed]",
            "text/plain": [
              "<Figure size 432x288 with 1 Axes>"
            ]
          },
          "metadata": {
            "needs_background": "light"
          }
        },
        {
          "output_type": "execute_result",
          "data": {
            "application/vnd.google.colaboratory.intrinsic+json": {
              "type": "string"
            },
            "text/plain": [
              "'\\nA1 = np.array([-10,-8,-6-4,-2,0,2,4,6,8,10,12,14,16])\\nA2 = np.array([0,0.5,1,1.5,2,2.5,3,3.5,4,4.5,5,5.5,6,6.5])\\n\\nB1 = np.array([1,2,3,4,5,6,7,8])\\nB2 = np.array([3,2,1,0,-1,-2,-3,-4])\\n\\n#y = x/2 + 2\\n#y = −x + 4\\n\\n\\n\\n\\n\\n'"
            ]
          },
          "metadata": {},
          "execution_count": 4
        }
      ]
    },
    {
      "cell_type": "markdown",
      "metadata": {
        "id": "hakI01wKpIjH"
      },
      "source": [
        "Vectors"
      ]
    },
    {
      "cell_type": "code",
      "execution_count": null,
      "metadata": {
        "colab": {
          "base_uri": "https://localhost:8080/",
          "height": 286
        },
        "id": "YykUygGdi1BH",
        "outputId": "86caa02e-98ec-4081-f9f0-91a2bf4f9415"
      },
      "outputs": [
        {
          "output_type": "execute_result",
          "data": {
            "text/plain": [
              "(-3.0, 3.0, -3.0, 3.0)"
            ]
          },
          "metadata": {},
          "execution_count": 3
        },
        {
          "output_type": "display_data",
          "data": {
            "image/png": "[encoded data removed]",
            "text/plain": [
              "<Figure size 432x288 with 1 Axes>"
            ]
          },
          "metadata": {
            "needs_background": "light"
          }
        }
      ],
      "source": [
        "v = np.array([2,-1])\n",
        "plt.plot([ 0 , v [ 0 ] ] , [ 0 , v [ 1 ] ] )\n",
        "plt.axis([-3,3,-3,3])"
      ]
    },
    {
      "cell_type": "code",
      "execution_count": null,
      "metadata": {
        "colab": {
          "base_uri": "https://localhost:8080/",
          "height": 53
        },
        "id": "dnZaukBTpEPW",
        "outputId": "93df456d-2bb8-4ee5-f0ff-559cde1f5948"
      },
      "outputs": [
        {
          "output_type": "execute_result",
          "data": {
            "application/vnd.google.colaboratory.intrinsic+json": {
              "type": "string"
            },
            "text/plain": [
              "'\\nv1 = [ 2 , 5 , 4 , 7 ] # l i s t\\nv2 = np . array ( [ 2 , 5 , 4 , 7 ] )# array , no o r i e n t a t i o n\\nv3 = np . array ( [ [ 2 ] , [ 5 ] , [ 4 ] , [ 7 ] ] )# c o l . ve c t o r\\nv4 = np . array ( [ [ 2 , 5 , 4 , 7 ] ] ) # row ve c t o r\\n'"
            ]
          },
          "metadata": {},
          "execution_count": 4
        }
      ],
      "source": [
        "'''\n",
        "v1 = [ 2 , 5 , 4 , 7 ] # l i s t\n",
        "v2 = np . array ( [ 2 , 5 , 4 , 7 ] )# array , no o r i e n t a t i o n\n",
        "v3 = np . array ( [ [ 2 ] , [ 5 ] , [ 4 ] , [ 7 ] ] )# c o l . ve c t o r\n",
        "v4 = np . array ( [ [ 2 , 5 , 4 , 7 ] ] ) # row ve c t o r\n",
        "'''"
      ]
    },
    {
      "cell_type": "code",
      "execution_count": null,
      "metadata": {
        "id": "aEUwdeXzpEMz"
      },
      "outputs": [],
      "source": [
        "v1 = np.array([2,5])\n",
        "v2=v1.T"
      ]
    },
    {
      "cell_type": "code",
      "execution_count": null,
      "metadata": {
        "colab": {
          "base_uri": "https://localhost:8080/",
          "height": 282
        },
        "id": "9ypZWQoJpEKn",
        "outputId": "8dc37e64-761b-4c72-ad14-a1f3bc4efa81"
      },
      "outputs": [
        {
          "output_type": "execute_result",
          "data": {
            "text/plain": [
              "[<matplotlib.lines.Line2D at 0x7fabd21abfd0>]"
            ]
          },
          "metadata": {},
          "execution_count": 6
        },
        {
          "output_type": "display_data",
          "data": {
            "image/png": "[encoded data removed]",
            "text/plain": [
              "<Figure size 432x288 with 1 Axes>"
            ]
          },
          "metadata": {
            "needs_background": "light"
          }
        }
      ],
      "source": [
        "plt.plot([0,v1[0]],[0,v1[1]],'-rs')"
      ]
    },
    {
      "cell_type": "code",
      "execution_count": null,
      "metadata": {
        "colab": {
          "base_uri": "https://localhost:8080/"
        },
        "id": "OVnuUkS4pEIZ",
        "outputId": "cac63ff6-95ad-4f53-937c-e3a92fbc6d65"
      },
      "outputs": [
        {
          "output_type": "execute_result",
          "data": {
            "text/plain": [
              "29"
            ]
          },
          "metadata": {},
          "execution_count": 7
        }
      ],
      "source": [
        "v1.dot(v2)"
      ]
    },
    {
      "cell_type": "code",
      "execution_count": null,
      "metadata": {
        "colab": {
          "base_uri": "https://localhost:8080/",
          "height": 171
        },
        "id": "b1PSQDIDpEFs",
        "outputId": "43be738f-ee57-4cca-996c-033e5cdf2e2a"
      },
      "outputs": [
        {
          "output_type": "execute_result",
          "data": {
            "text/plain": [
              "[<matplotlib.lines.Line2D at 0x7fabd206a750>]"
            ]
          },
          "metadata": {},
          "execution_count": 8
        },
        {
          "output_type": "display_data",
          "data": {
            "image/png": "[encoded data removed]",
            "text/plain": [
              "<Figure size 432x288 with 4 Axes>"
            ]
          },
          "metadata": {
            "needs_background": "light"
          }
        }
      ],
      "source": [
        "plt.subplot(4, 3, 1)\n",
        "plt.plot([0,2],[0,2])\n",
        "\n",
        "plt.subplot(4, 3, 2)\n",
        "plt.plot([1,6],[-2,12])\n",
        "\n",
        "plt.subplot(4, 3, 3)\n",
        "plt.plot([4,-1],[1,0])\n",
        "\n",
        "plt.subplot(4, 3, 4)\n",
        "plt.plot([0,np.pi],[0,mat.e])\n",
        "\n"
      ]
    },
    {
      "cell_type": "markdown",
      "metadata": {
        "id": "EeUFdEAtM3HY"
      },
      "source": [
        "Create a 2D vector v, 10 scalars that are drawn at random\n",
        "from a normal (Gaussian) distribution, and plot all 10 scalarvector\n",
        "multiplications on top of each other. What do you\n",
        "notice?"
      ]
    },
    {
      "cell_type": "code",
      "execution_count": null,
      "metadata": {
        "id": "0Qu7-JqfpECd"
      },
      "outputs": [],
      "source": [
        "v=np.array([4,9])"
      ]
    },
    {
      "cell_type": "code",
      "execution_count": null,
      "metadata": {
        "colab": {
          "base_uri": "https://localhost:8080/",
          "height": 300
        },
        "id": "3Ea_9KIlpD-2",
        "outputId": "2a8417b1-3a90-4f3e-e3a4-a3d4b2b3e4a0"
      },
      "outputs": [
        {
          "output_type": "stream",
          "name": "stdout",
          "text": [
            "[-0.10750511]\n",
            "[-0.43002043 -0.96754596]\n"
          ]
        },
        {
          "output_type": "display_data",
          "data": {
            "image/png": "[encoded data removed]",
            "text/plain": [
              "<Figure size 432x288 with 1 Axes>"
            ]
          },
          "metadata": {
            "needs_background": "light"
          }
        }
      ],
      "source": [
        "a = np.random.randn(10,1)\n",
        "print(a[2])\n",
        "print(a[2]*v)\n",
        "\n",
        "for x in a:\n",
        "  v2= x*v\n",
        "  plt.plot([0,v2[0]],[0,v2[1]],'-r')\n",
        "\n",
        "plt.show()"
      ]
    },
    {
      "cell_type": "code",
      "execution_count": null,
      "metadata": {
        "colab": {
          "base_uri": "https://localhost:8080/"
        },
        "id": "Z9WzJVKvP-nu",
        "outputId": "448c3b7e-f052-49d6-fe9a-53497c943f37"
      },
      "outputs": [
        {
          "output_type": "stream",
          "name": "stdout",
          "text": [
            "dot Product is:\n",
            "8\n",
            "outer dot Product is:\n",
            "[[0 1 1 0]\n",
            " [0 3 3 0]\n",
            " [0 5 5 0]\n",
            " [0 7 7 0]]\n",
            "outer dot Product is:\n",
            "[0 3 5 0]\n"
          ]
        }
      ],
      "source": [
        "v1=np.array([1,3,5,7])\n",
        "v2=np.array([0,1,1,0])\n",
        "\n",
        "v_dot_product = v1.dot(v2)\n",
        "print(\"dot Product is:\")\n",
        "print(v_dot_product)\n",
        "\n",
        "v_outer_dot_product = np.outer(v1.T,v2.T)\n",
        "print(\"outer dot Product is:\")\n",
        "print(v_outer_dot_product)\n",
        "\n",
        "hand_made_product = v1*v2\n",
        "print(\"outer dot Product is:\")\n",
        "print(hand_made_product)"
      ]
    },
    {
      "cell_type": "code",
      "execution_count": null,
      "metadata": {
        "colab": {
          "base_uri": "https://localhost:8080/"
        },
        "id": "DJyCM42jUkGn",
        "outputId": "d9eae012-5855-46af-c644-787ae25f3eb1"
      },
      "outputs": [
        {
          "output_type": "stream",
          "name": "stdout",
          "text": [
            "[0.10910895 0.32732684 0.54554473 0.76376262]\n",
            "1.0\n"
          ]
        }
      ],
      "source": [
        "v1_unit = v1 / (np.linalg.norm(v1))\n",
        "print(v1_unit)\n",
        "print(np.linalg.norm(v1_unit))"
      ]
    },
    {
      "cell_type": "code",
      "execution_count": null,
      "metadata": {
        "colab": {
          "base_uri": "https://localhost:8080/"
        },
        "id": "MDp3OOJRJoI2",
        "outputId": "c158be4c-3545-4af8-84a6-051f669d4875"
      },
      "outputs": [
        {
          "output_type": "stream",
          "name": "stdout",
          "text": [
            "[0.88774557 0.88991589 0.04121337 0.6839331  0.69809399]\n",
            "3.200901913397336\n",
            "[0.27734232 0.27802036 0.01287555 0.21366887 0.2180929 ]\n"
          ]
        }
      ],
      "source": [
        "k=np.random.rand(5)\n",
        "print(k)\n",
        "print(sum(k))\n",
        "print(k/sum(k))"
      ]
    },
    {
      "cell_type": "code",
      "execution_count": null,
      "metadata": {
        "colab": {
          "base_uri": "https://localhost:8080/"
        },
        "id": "gro7GVnFHzeU",
        "outputId": "7293ea3d-1bcb-4a2c-c08c-98d4c21be5a0"
      },
      "outputs": [
        {
          "output_type": "stream",
          "name": "stdout",
          "text": [
            "2.7649756930898297\n"
          ]
        }
      ],
      "source": [
        "v=np.array([7,4,-5,8,3])\n",
        "w=np.random.rand(len(v))\n",
        "\n",
        "avg=v.dot(w)/sum(w)\n",
        "print(avg)"
      ]
    },
    {
      "cell_type": "code",
      "source": [
        "c = w/sum(w)\n",
        "print(sum(c))"
      ],
      "metadata": {
        "colab": {
          "base_uri": "https://localhost:8080/"
        },
        "id": "4jWvllTFJjlw",
        "outputId": "7ee47a4f-d23f-45c4-c340-72363c86d26a"
      },
      "execution_count": null,
      "outputs": [
        {
          "output_type": "stream",
          "name": "stdout",
          "text": [
            "0.9999999999999999\n"
          ]
        }
      ]
    },
    {
      "cell_type": "code",
      "source": [
        "np.round(10*np.random.rand(4,4))"
      ],
      "metadata": {
        "colab": {
          "base_uri": "https://localhost:8080/"
        },
        "id": "pQLtfobeBV45",
        "outputId": "e7421513-2f38-45bd-a7a5-023dc1debe62"
      },
      "execution_count": null,
      "outputs": [
        {
          "output_type": "execute_result",
          "data": {
            "text/plain": [
              "array([[2., 8., 7., 8.],\n",
              "       [3., 2., 8., 0.],\n",
              "       [2., 2., 8., 2.],\n",
              "       [9., 9., 7., 5.]])"
            ]
          },
          "metadata": {},
          "execution_count": 6
        }
      ]
    },
    {
      "cell_type": "code",
      "source": [
        "#Transpoze:\n",
        "A = np.round(10*np.random.rand(4,4))\n",
        "At1=A.T\n",
        "At2=np.transpose(A)\n",
        "print(At1)\n",
        "print(At2)"
      ],
      "metadata": {
        "colab": {
          "base_uri": "https://localhost:8080/"
        },
        "id": "-M12EbdNAZyS",
        "outputId": "dc217fc5-99dd-489b-daf5-65e234efeeeb"
      },
      "execution_count": null,
      "outputs": [
        {
          "output_type": "stream",
          "name": "stdout",
          "text": [
            "[[ 2.  9.  4.  7.]\n",
            " [ 3.  5.  2.  7.]\n",
            " [ 4.  3. 10. 10.]\n",
            " [ 6.  5.  4.  4.]]\n",
            "[[ 2.  9.  4.  7.]\n",
            " [ 3.  5.  2.  7.]\n",
            " [ 4.  3. 10. 10.]\n",
            " [ 6.  5.  4.  4.]]\n"
          ]
        }
      ]
    },
    {
      "cell_type": "code",
      "source": [
        "V = [A[i,j] for i in range(A.shape[0]) for j in range(A.shape[1])]\n",
        "V"
      ],
      "metadata": {
        "colab": {
          "base_uri": "https://localhost:8080/"
        },
        "id": "dPK5mxze_yWu",
        "outputId": "d7d5d65f-5c14-4627-8f0d-e8f0eae241f5"
      },
      "execution_count": null,
      "outputs": [
        {
          "output_type": "execute_result",
          "data": {
            "text/plain": [
              "[2.0,\n",
              " 3.0,\n",
              " 4.0,\n",
              " 6.0,\n",
              " 9.0,\n",
              " 5.0,\n",
              " 3.0,\n",
              " 5.0,\n",
              " 4.0,\n",
              " 2.0,\n",
              " 10.0,\n",
              " 4.0,\n",
              " 7.0,\n",
              " 7.0,\n",
              " 10.0,\n",
              " 4.0]"
            ]
          },
          "metadata": {},
          "execution_count": 6
        }
      ]
    },
    {
      "cell_type": "code",
      "source": [
        "I = np.eye(4)\n",
        "O = np.ones(4)\n",
        "Z = np.zeros((4,4))\n",
        "\n",
        "D = np.diag([1,2,3,5])\n",
        "R = np.random.randn(4,3)\n",
        "d = np.diag(R)\n",
        "#print(R)\n",
        "#print(d)\n",
        "\n",
        "B=np.random.rand(4,3)\n",
        "C=np.random.rand(4,5)\n",
        "\n",
        "BC = np.concatenate((B,C),axis=1)\n",
        "#print(BC)\n",
        "\n",
        "L = np.tril(A)\n",
        "#print(L)\n",
        "\n",
        "t = [1,2,3,4]\n",
        "T = toeplitz(t)\n",
        "H1 = hankel(t)\n",
        "H2 = hankel(t,[6,8,1,1])\n",
        "\n",
        "tr = np.trace(A)\n",
        "print(tr)\n",
        "\n",
        "#print(T)\n",
        "#print()\n",
        "#print(H1)\n",
        "#print()\n",
        "#print(H2)"
      ],
      "metadata": {
        "colab": {
          "base_uri": "https://localhost:8080/"
        },
        "id": "LnXrkQIvAw6w",
        "outputId": "442b0605-90de-49e2-b779-0e010f3490d7"
      },
      "execution_count": null,
      "outputs": [
        {
          "output_type": "stream",
          "name": "stdout",
          "text": [
            "21.0\n"
          ]
        }
      ]
    },
    {
      "cell_type": "markdown",
      "source": [
        "An N×N matrix has N2 elements. For a symmetric matrix,\n",
        "however, not all elements are unique. Create 2×2 and 3×3\n",
        "symmetric matrices and count the number of total elements\n",
        "and the number of possible unique elements. Then work out\n",
        "a formula for the number of possible unique elements in such\n",
        "a matrix."
      ],
      "metadata": {
        "id": "zMJp1BGNABKZ"
      }
    },
    {
      "cell_type": "code",
      "source": [
        "def findSymMartix(listArr):\n",
        "\n",
        "  S = listArr.T*listArr\n",
        "  numbers=[]\n",
        "  for i in range(len(S)):\n",
        "    for j in range(len(S[1])):\n",
        "      numbers.append(S[i,j])\n",
        "  \n",
        "  (unique, counts) = np.unique(numbers, return_counts=True)\n",
        "  \n",
        "  print(\"Unique değer sayısı\",len(unique))\n",
        "  print(\"Unique değer sayısı\",np.sum(counts))\n",
        "\n",
        "  return numbers,unique,counts"
      ],
      "metadata": {
        "id": "Ug_jACWWHGNe"
      },
      "execution_count": null,
      "outputs": []
    },
    {
      "cell_type": "code",
      "source": [
        "A = np.random.randint(1,10,size=(3,3))\n",
        "nums,uniq,count = np.array(findSymMartix(A))\n",
        "\n",
        "\n",
        "print(\"unique numbers\")\n",
        "print(uniq)\n",
        "print()\n",
        "print(count)\n"
      ],
      "metadata": {
        "colab": {
          "base_uri": "https://localhost:8080/"
        },
        "id": "aM06oFcLavte",
        "outputId": "657ae106-e99d-4186-ddba-aa1bb9928c9e"
      },
      "execution_count": null,
      "outputs": [
        {
          "output_type": "stream",
          "name": "stdout",
          "text": [
            "Unique değer sayısı 6\n",
            "Unique değer sayısı 9\n",
            "unique numbers\n",
            "[ 4  6  7  9 16 25]\n",
            "\n",
            "[1 2 2 1 2 1]\n"
          ]
        },
        {
          "output_type": "stream",
          "name": "stderr",
          "text": [
            "/usr/local/lib/python3.7/dist-packages/ipykernel_launcher.py:2: VisibleDeprecationWarning: Creating an ndarray from ragged nested sequences (which is a list-or-tuple of lists-or-tuples-or ndarrays with different lengths or shapes) is deprecated. If you meant to do this, you must specify 'dtype=object' when creating the ndarray\n",
            "  \n"
          ]
        }
      ]
    },
    {
      "cell_type": "markdown",
      "source": [
        "The goal of this exercise is to create a matrix that contains\n",
        "the dot products between all pairs of columns in two other\n",
        "matrices. First, create two 4x2 matrices (that is, 4 rows, 2\n",
        "columns) of random numbers. Then write a double-for loop\n",
        "in which you compute the dot products between each column\n",
        "of both matrices. The i, j element of the resulting matrix will\n",
        "be the dot product between column i of the first matrix and\n",
        "column j of the second matrix."
      ],
      "metadata": {
        "id": "ZKOmSBuMNgqt"
      }
    },
    {
      "cell_type": "code",
      "source": [
        "np.random.seed(seed=42)\n",
        "A = np.random.randint(1,10,size=(4,2))\n",
        "B = np.random.randint(1,10,size=(4,2))\n",
        "\n",
        "K = np.zeros((len(A[0]),len(B[0])))\n",
        "\n",
        "for i in range(len(A[0])):\n",
        "  for j in range(len(B[0])):\n",
        "    K[i,j] = A[:,i].dot(B[:,j])\n",
        "\n",
        "print(K)"
      ],
      "metadata": {
        "colab": {
          "base_uri": "https://localhost:8080/"
        },
        "id": "hM7lIO_aNPE1",
        "outputId": "ed72ae85-37d3-4925-897b-3a9f19b577b1"
      },
      "execution_count": null,
      "outputs": [
        {
          "output_type": "stream",
          "name": "stdout",
          "text": [
            "[[155. 148.]\n",
            " [109.  90.]]\n"
          ]
        }
      ]
    },
    {
      "cell_type": "markdown",
      "source": [
        "Create a symmetric matrix by starting with a dense random\n",
        "numbers matrix and applying three matrix operations: convert\n",
        "to triangular, transpose, matrix addition. (yani triangular-transpoze-toplama ile random bir matriksi simetri yapacaksın)"
      ],
      "metadata": {
        "id": "e9rFrLRssIX4"
      }
    },
    {
      "cell_type": "code",
      "source": [
        "A = np.random.randint(1,100,size=(5,5))\n",
        "\n",
        "L = np.tril(A)\n",
        "U = np.triu(A)\n",
        "\n",
        "TL = L.T\n",
        "TU = U.T\n",
        "print(\"A= \\n\",A)\n",
        "print(\"\\n TL= \\n\",TL)\n",
        "print(\"\\n TU= \\n\",TU)\n",
        "\n",
        "S = TL + L\n",
        "\n",
        "print(\"\\n\",S)\n"
      ],
      "metadata": {
        "colab": {
          "base_uri": "https://localhost:8080/"
        },
        "id": "aPgmsdhysJu7",
        "outputId": "8571204e-f73b-4085-9fc5-2a3450127c22"
      },
      "execution_count": null,
      "outputs": [
        {
          "output_type": "stream",
          "name": "stdout",
          "text": [
            "A= \n",
            " [[88 30 38  2 64]\n",
            " [60 21 33 76 58]\n",
            " [22 89 49 91 59]\n",
            " [42 92 60 80 15]\n",
            " [62 62 47 62 51]]\n",
            "\n",
            " TL= \n",
            " [[88 60 22 42 62]\n",
            " [ 0 21 89 92 62]\n",
            " [ 0  0 49 60 47]\n",
            " [ 0  0  0 80 62]\n",
            " [ 0  0  0  0 51]]\n",
            "\n",
            " TU= \n",
            " [[88  0  0  0  0]\n",
            " [30 21  0  0  0]\n",
            " [38 33 49  0  0]\n",
            " [ 2 76 91 80  0]\n",
            " [64 58 59 15 51]]\n",
            "\n",
            " [[176  60  22  42  62]\n",
            " [ 60  42  89  92  62]\n",
            " [ 22  89  98  60  47]\n",
            " [ 42  92  60 160  62]\n",
            " [ 62  62  47  62 102]]\n"
          ]
        }
      ]
    },
    {
      "cell_type": "code",
      "source": [
        "\n",
        "t = [1,2,3,1,2,3]\n",
        "T = toeplitz(t)\n",
        "H = hankel(t,[2,3,1,2,3,1])\n",
        "print(H)\n"
      ],
      "metadata": {
        "colab": {
          "base_uri": "https://localhost:8080/"
        },
        "id": "FAwUWq7t4ZGf",
        "outputId": "1920de04-632d-4deb-90fd-094fc6f93e6c"
      },
      "execution_count": null,
      "outputs": [
        {
          "output_type": "stream",
          "name": "stdout",
          "text": [
            "[[1 2 3 1 2 3]\n",
            " [2 3 1 2 3 3]\n",
            " [3 1 2 3 3 1]\n",
            " [1 2 3 3 1 2]\n",
            " [2 3 3 1 2 3]\n",
            " [3 3 1 2 3 1]]\n"
          ]
        }
      ]
    },
    {
      "cell_type": "code",
      "source": [
        "A = np.array([[2,4],[1,2]])\n",
        "B = np.array([[0,1],[1,1]])\n",
        "\n",
        "C=A@B\n",
        "print(C)"
      ],
      "metadata": {
        "colab": {
          "base_uri": "https://localhost:8080/"
        },
        "id": "SGVXQCCHAD-m",
        "outputId": "256c2753-d3b8-41f7-c4b5-ec0fef3bbce4"
      },
      "execution_count": null,
      "outputs": [
        {
          "output_type": "stream",
          "name": "stdout",
          "text": [
            "[[4 6]\n",
            " [2 3]]\n"
          ]
        }
      ]
    },
    {
      "cell_type": "code",
      "source": [
        "[print(x, y) for x in iter1 for y in iter2]\n",
        "\n",
        "# Method 2: exec()\n",
        "exec(\"for x in iter1:\\n    for y in iter2:\\n        print(x, y)\")\n",
        "\n",
        "# Method 3: For Loop with List Comprehension\n",
        "for x in iter1: [print(x, y) for y in iter2]"
      ],
      "metadata": {
        "id": "MmwTlwtBVC8J"
      },
      "execution_count": null,
      "outputs": []
    },
    {
      "cell_type": "code",
      "source": [
        "for k,j in enumerate(S):\n",
        "  print(j)"
      ],
      "metadata": {
        "colab": {
          "base_uri": "https://localhost:8080/"
        },
        "id": "qxKC9QJtS4wS",
        "outputId": "461db42a-3dc8-4066-f673-9bc5bf12e4de"
      },
      "execution_count": null,
      "outputs": [
        {
          "output_type": "stream",
          "name": "stdout",
          "text": [
            "[16 35 40]\n",
            "[35  4 10]\n",
            "[40 10  1]\n"
          ]
        }
      ]
    },
    {
      "cell_type": "markdown",
      "source": [
        "Implement matrix multiplication between a 2×4 matrix and a\n",
        "4×3 matrix, using the \"layer perspective\" in a for-loop. Confirm\n",
        "that you get the same result as when you compute matrix\n",
        "multiplication using @ (Python) or * (MATLAB)."
      ],
      "metadata": {
        "id": "rOc-L35ApncW"
      }
    },
    {
      "cell_type": "code",
      "source": [
        "np.random.seed(42)\n",
        "A = np.random.randint(0,10,size=(2,4))\n",
        "B = np.random.randint(0,10,size=(4,3))\n",
        "\n",
        "print(A)\n",
        "print(\"\\n\",B)\n",
        "\n",
        "C = A@B\n",
        "print(\"\\n\",C)\n",
        "\n",
        "K=np.zeros((A.shape[0],B.shape[1]))\n",
        "for i in range(A.shape[1]):\n",
        "  K=K+np.outer(A[:,i],B[i,:])\n",
        "\n",
        "print(K)\n",
        "\n",
        "\n",
        "#C = C + A[:,i]@B[j]\n",
        "\n",
        "#print(C)\n",
        "#A[]      \n",
        "#print(A[i],\"ve shape\",A[i].shape)\n",
        "#print(B[:,j],\"ve shape\",B[:,j].shape)\n",
        "#print(\"\\n\")\n",
        "\n",
        "#K= K + np.outer(A[:,i],B[j])\n",
        "\n",
        "\n",
        "\n",
        "\n"
      ],
      "metadata": {
        "colab": {
          "base_uri": "https://localhost:8080/"
        },
        "id": "46hwKGXJXLSx",
        "outputId": "4af644b6-8b66-41cf-9638-d5f226706c29"
      },
      "execution_count": null,
      "outputs": [
        {
          "output_type": "stream",
          "name": "stdout",
          "text": [
            "[[6 3 7 4]\n",
            " [6 9 2 6]]\n",
            "\n",
            " [[7 4 3]\n",
            " [7 7 2]\n",
            " [5 4 1]\n",
            " [7 5 1]]\n",
            "\n",
            " [[126  93  35]\n",
            " [157 125  44]]\n",
            "[[126.  93.  35.]\n",
            " [157. 125.  44.]]\n"
          ]
        }
      ]
    },
    {
      "cell_type": "code",
      "source": [
        "B.flatten()"
      ],
      "metadata": {
        "colab": {
          "base_uri": "https://localhost:8080/"
        },
        "id": "K9f30DSkJAR6",
        "outputId": "e45d3df5-be5e-481d-8479-864aad35b45d"
      },
      "execution_count": null,
      "outputs": [
        {
          "output_type": "execute_result",
          "data": {
            "text/plain": [
              "array([7, 4, 3, 7, 7, 2, 5, 4, 1, 7, 5, 1])"
            ]
          },
          "metadata": {},
          "execution_count": 18
        }
      ]
    },
    {
      "cell_type": "markdown",
      "source": [
        "#Chapter 8-16"
      ],
      "metadata": {
        "id": "oep8793v7bWs"
      }
    },
    {
      "cell_type": "code",
      "source": [
        "import numpy as np\n",
        "from scipy.linalg import null_space\n",
        "A = np.random.randn(3,4)\n",
        "B =null_space (A)\n",
        "\n",
        "A1 = np.random.randint(0,10,size=(3,4))\n",
        "B1 = null_space(A1)\n",
        "print(B)\n",
        "print(B1)"
      ],
      "metadata": {
        "colab": {
          "base_uri": "https://localhost:8080/"
        },
        "id": "xwOcf-z87fqW",
        "outputId": "54273b72-a5ee-4d5f-de33-f61b919c8323"
      },
      "execution_count": null,
      "outputs": [
        {
          "output_type": "stream",
          "name": "stdout",
          "text": [
            "[[ 0.78077107]\n",
            " [ 0.58656361]\n",
            " [-0.15808374]\n",
            " [ 0.14611366]]\n",
            "[[-0.84444074]\n",
            " [ 0.51965584]\n",
            " [ 0.        ]\n",
            " [ 0.12991396]]\n"
          ]
        }
      ]
    },
    {
      "cell_type": "code",
      "source": [
        "print(A1@B1)"
      ],
      "metadata": {
        "colab": {
          "base_uri": "https://localhost:8080/"
        },
        "id": "TMUBQVhk5IMp",
        "outputId": "16bb2a9d-eaa6-4310-8964-6ab05172f7fa"
      },
      "execution_count": null,
      "outputs": [
        {
          "output_type": "stream",
          "name": "stdout",
          "text": [
            "[[-8.88178420e-16]\n",
            " [-1.33226763e-15]\n",
            " [-1.33226763e-15]]\n"
          ]
        }
      ]
    },
    {
      "cell_type": "code",
      "source": [
        "print(A)\n",
        "print(\"\\n\")\n",
        "print(B)\n",
        "\n",
        "C=A@B\n",
        "\n",
        "print(C)\n",
        "print(C.round())"
      ],
      "metadata": {
        "id": "zeyU1o5e7vGf"
      },
      "execution_count": null,
      "outputs": []
    },
    {
      "cell_type": "markdown",
      "source": [
        "Create two 4×4 random numbers matrices, each with rank=3\n",
        "(consult the code challenge from Chapter 7 for how to do this).\n",
        "Call those matrices A and B. Then find a vector in the null space\n",
        "of A (vector n). Finally, show that BAn is the zeros vector while\n",
        "ABn is not."
      ],
      "metadata": {
        "id": "Gv_lZcpA3Lyz"
      }
    },
    {
      "cell_type": "code",
      "source": [
        "R = np.random.randint(0,20,size=(3,4))\n",
        "A = np.random.randint(0,20,size=(4,3))\n",
        "B = np.random.randint(0,20,size=(4,3))\n",
        "A = A@R\n",
        "B = B@R\n",
        "n = null_space(A)\n",
        "\n",
        "print(n)\n",
        "print(\"\\n\")\n",
        "\n",
        "print(\"An=\",A@n.round())\n",
        "\n",
        "print(\"\\n\")\n",
        "\n",
        "print(\"BAn=\",B@A@n.round())\n",
        "\n",
        "print(\"\\n\")\n",
        "\n",
        "print(\"ABn\",A@B@n.round())\n",
        "\n",
        "\n"
      ],
      "metadata": {
        "id": "SsDqxCad3KJF"
      },
      "execution_count": null,
      "outputs": []
    },
    {
      "cell_type": "code",
      "source": [
        "A = np . random.randn(2,4)\n",
        "K = sym.Matrix(A).rref()\n",
        "\n",
        "print(K[0])\n",
        "print(\"\\n\")\n",
        "print(K[1])\n",
        "print(\"\\n\")\n",
        "\n",
        "c=K[0]\n",
        "\n",
        "print(type(c))\n",
        "print(type(K))\n",
        "\n",
        "print(\"\\n\")\n",
        "\n",
        "print(c[0])"
      ],
      "metadata": {
        "id": "lMAKc-qjR1tT"
      },
      "execution_count": null,
      "outputs": []
    },
    {
      "cell_type": "markdown",
      "source": [
        "1. Create a vector that contains the values of the variables,\n",
        "which is actually the numbers that you want to solve for\n",
        "in the equations. For example, if you pick x = 3 and\n",
        "y = −4, then the vector of solutions is x = [3 − 4].\n",
        "2. Make up the expressions with random coefficients—but\n",
        "don’t worry about the solution (the constants). For example,\n",
        "2x − 3z.\n",
        "3. Create the coefficients matrix like what you learned in\n",
        "section 10.2. Let’s call this matrix A.\n",
        "4. Compute the constants as Ax."
      ],
      "metadata": {
        "id": "RqVUcnqeycXj"
      }
    },
    {
      "cell_type": "code",
      "source": [
        "np.random.seed(42)\n",
        "\n",
        "x = np.random.randint(0,10,size=(1,2))\n",
        "A = np.random.randint(0,10,size=(1,2))\n",
        "\n",
        "print(x.shape)\n",
        "print(x)"
      ],
      "metadata": {
        "colab": {
          "base_uri": "https://localhost:8080/"
        },
        "id": "kH4uxDWFnGKt",
        "outputId": "efdfb836-035c-4533-db4f-3815b50323e3"
      },
      "execution_count": null,
      "outputs": [
        {
          "output_type": "stream",
          "name": "stdout",
          "text": [
            "(1, 2)\n",
            "[[6 3]]\n"
          ]
        }
      ]
    },
    {
      "cell_type": "markdown",
      "source": [
        "det(bA) = b^M*det(A), RM×M (11.26)\n",
        "\n",
        "Write code that illustrates Equation 11.26. Your code should\n",
        "generate a 4×4 matrix comprising integers between 0 and 10,\n",
        "then generate a random integer b between -10 and -1, and then\n",
        "print out the left- and right-hand sides of Equation 11.26."
      ],
      "metadata": {
        "id": "vtGd_bQbdDZJ"
      }
    },
    {
      "cell_type": "code",
      "source": [
        "A = np.random.randint(0,10,size=(4,4))\n",
        "b = np.random.randint(-11,-1)\n",
        "\n",
        "print((b**A.shape[0])*np.linalg.det(A))"
      ],
      "metadata": {
        "colab": {
          "base_uri": "https://localhost:8080/"
        },
        "id": "eDLFcdFRdC3p",
        "outputId": "3a6a2b8f-13c6-4fa1-9127-c8d4bc480358"
      },
      "execution_count": null,
      "outputs": [
        {
          "output_type": "stream",
          "name": "stdout",
          "text": [
            "-898128.0\n"
          ]
        }
      ]
    },
    {
      "cell_type": "markdown",
      "source": [
        "We will now demonstrate the numerical instabilities of the\n",
        "determinant. Implement the following in code:\n",
        "1. Create a matrix of normally distributed random numbers.\n",
        "2. Ensure that the matrix is reduced-rank.\n",
        "3. Compute the absolute value of the determinant (we are\n",
        "interested in whether the determinant deviates from zero;\n",
        "the sign doesn’t matter).\n",
        "Run these three steps in a double for-loop: One over matrix\n",
        "sizes ranging from 3×3 to 30×30, and a second that repeats\n",
        "the three steps 100 times. This is equivalent to repeating a\n",
        "scientific experiment multiple times.\n",
        "Finally, make a plot of the average determinant as a function\n",
        "of the matrix size. In theory, all of these determinants should\n",
        "be zero! The figure below shows my result. I show the y-axis\n",
        "in log-scale because the determinants grow exponentially."
      ],
      "metadata": {
        "id": "s7ktj_iBgSp9"
      }
    },
    {
      "cell_type": "code",
      "source": [
        "f=[1,2,3]\n",
        "\n",
        "sum(f) / len(f)"
      ],
      "metadata": {
        "colab": {
          "base_uri": "https://localhost:8080/"
        },
        "id": "zNCt43HKI1ma",
        "outputId": "1fc3d586-2f38-425b-9fe5-3780cd45b4dd"
      },
      "execution_count": null,
      "outputs": [
        {
          "output_type": "execute_result",
          "data": {
            "text/plain": [
              "2.0"
            ]
          },
          "metadata": {},
          "execution_count": 16
        }
      ]
    },
    {
      "cell_type": "code",
      "source": [
        "B=[]\n",
        "idx = []\n",
        "\n",
        "for j in range(3,30,1):\n",
        "  det=0\n",
        "  K=[]\n",
        "  for i in range(100):\n",
        "    A = 3 + 3*np.random.randn(j,j)\n",
        "    #A[:,0] = A[:,1]\n",
        "    det = det + abs(np.linalg.det(A)) \n",
        "    K.append(det)\n",
        "  B.append(sum(K)/len(K))\n",
        "  idx.append(j)\n",
        "\n",
        "\n",
        "plt.plot(idx,np.log(B),\"rs\")\n",
        "plt.xlabel(\"matrix size\")\n",
        "plt.ylabel(\"log determinant\")\n",
        "plt.show()\n",
        "\n",
        "\n"
      ],
      "metadata": {
        "colab": {
          "base_uri": "https://localhost:8080/",
          "height": 279
        },
        "id": "gp3SDQcOgUSz",
        "outputId": "854a72b5-91df-4067-d4a4-6c7a03c0c2c5"
      },
      "execution_count": null,
      "outputs": [
        {
          "output_type": "display_data",
          "data": {
            "image/png": "[encoded data removed]",
            "text/plain": [
              "<Figure size 432x288 with 1 Axes>"
            ]
          },
          "metadata": {
            "needs_background": "light"
          }
        }
      ]
    },
    {
      "cell_type": "code",
      "source": [
        "ns = np.arange(3 , 31)\n",
        "iters = 100\n",
        "dets = np.zeros((len(ns) , iters))\n",
        "\n",
        "for ni in range (len(ns)) :\n",
        "  for i in range (iters) :\n",
        "    A = np.random.randn(ns[ni] , ns[ni])#step1\n",
        "    A[:,0] = A[:,1] # step2\n",
        "    dets[ni,i]=np.abs(np.linalg.det(A))#st3\n",
        "\n",
        "plt.plot(ns , np.log(np.mean(dets , axis =1)))\n",
        "plt.xlabel('Matrix size')\n",
        "plt.ylabel('Log determinant') ;"
      ],
      "metadata": {
        "colab": {
          "base_uri": "https://localhost:8080/",
          "height": 280
        },
        "id": "JbU1N4YhLk1p",
        "outputId": "389ea534-925c-4e27-cd30-4f8251e30f05"
      },
      "execution_count": null,
      "outputs": [
        {
          "output_type": "display_data",
          "data": {
            "image/png": "[encoded data removed]",
            "text/plain": [
              "<Figure size 432x288 with 1 Axes>"
            ]
          },
          "metadata": {
            "needs_background": "light"
          }
        }
      ]
    },
    {
      "cell_type": "code",
      "source": [
        "ns"
      ],
      "metadata": {
        "colab": {
          "base_uri": "https://localhost:8080/"
        },
        "id": "QAbA2vRiNZ_-",
        "outputId": "e07fe57b-f2f3-483a-8f24-f74f155caeae"
      },
      "execution_count": null,
      "outputs": [
        {
          "output_type": "execute_result",
          "data": {
            "text/plain": [
              "array([ 3,  4,  5,  6,  7,  8,  9, 10, 11, 12, 13, 14, 15, 16, 17, 18, 19,\n",
              "       20, 21, 22, 23, 24, 25, 26, 27, 28, 29, 30])"
            ]
          },
          "metadata": {},
          "execution_count": 26
        }
      ]
    },
    {
      "cell_type": "code",
      "source": [
        "'''\n",
        "The code below shows the row-reduction method, and\n",
        "then compares that to the inverse function.\n",
        "'''\n",
        "import numpy as np\n",
        "import sympy as sym\n",
        "A = np . random.randn ( 3 , 3 )\n",
        "Acat = np . concatenate ( (A, np . eye ( 3 , 3 ) ) , axis=1)\n",
        "Ar = sym. Matrix (Acat ) . rref()[0] # RREF\n",
        "Ar = Ar [ : , 3 : ] # keep i n v e r s e\n",
        "Ai = np . linalg.inv(A)\n",
        "Ar - Ai"
      ],
      "metadata": {
        "colab": {
          "base_uri": "https://localhost:8080/",
          "height": 78
        },
        "id": "jwj1z85_Scqa",
        "outputId": "baa1f5d4-b95a-4436-e5cd-4f1f4602a430"
      },
      "execution_count": null,
      "outputs": [
        {
          "output_type": "execute_result",
          "data": {
            "text/latex": "$\\displaystyle \\left[\\begin{matrix}-5.55111512312578 \\cdot 10^{-17} & -1.11022302462516 \\cdot 10^{-16} & -1.11022302462516 \\cdot 10^{-16}\\\\-1.11022302462516 \\cdot 10^{-16} & -1.11022302462516 \\cdot 10^{-16} & -1.11022302462516 \\cdot 10^{-16}\\\\-1.11022302462516 \\cdot 10^{-16} & 0 & 0\\end{matrix}\\right]$",
            "text/plain": [
              "Matrix([\n",
              "[-5.55111512312578e-17, -1.11022302462516e-16, -1.11022302462516e-16],\n",
              "[-1.11022302462516e-16, -1.11022302462516e-16, -1.11022302462516e-16],\n",
              "[-1.11022302462516e-16,                     0,                     0]])"
            ]
          },
          "metadata": {},
          "execution_count": 12
        }
      ]
    },
    {
      "cell_type": "code",
      "source": [
        "T = np.array([[1,2],[1,3],[1,4]])\n",
        "\n",
        "Tinv = np.array([[11,2,-7],[-3,0,3]])\n",
        "\n",
        "print(1/6*Tinv@T)\n",
        "\n",
        "print(1/6*T@Tinv)"
      ],
      "metadata": {
        "colab": {
          "base_uri": "https://localhost:8080/"
        },
        "id": "N5Gh2SguRy3t",
        "outputId": "1f4a9860-50a1-41da-8746-bf0e882d04a3"
      },
      "execution_count": null,
      "outputs": [
        {
          "output_type": "stream",
          "name": "stdout",
          "text": [
            "[[1. 0.]\n",
            " [0. 1.]]\n",
            "[[ 0.83333333  0.33333333 -0.16666667]\n",
            " [ 0.33333333  0.33333333  0.33333333]\n",
            " [-0.16666667  0.33333333  0.83333333]]\n"
          ]
        }
      ]
    },
    {
      "cell_type": "code",
      "source": [
        "'''\n",
        "The MP pseudoinverse is so important in applied linear\n",
        "algebra that numerical software developers have made it supereasy\n",
        "to implement. Notice that the matrix below is singular.\n",
        "'''\n",
        "\n",
        "import numpy as np\n",
        "A = np . random. randn ( 3 , 3 )\n",
        "A[ 1 , : ] = A[ 0 , : ]\n",
        "Api = np . linalg . pinv (A)\n",
        "\n",
        "Api@A"
      ],
      "metadata": {
        "colab": {
          "base_uri": "https://localhost:8080/"
        },
        "id": "ogoZQ4Eiu-yp",
        "outputId": "15f0977c-4e97-4572-d513-e837a8802984"
      },
      "execution_count": null,
      "outputs": [
        {
          "output_type": "execute_result",
          "data": {
            "text/plain": [
              "array([[ 0.42324086, -0.45466464,  0.19336002],\n",
              "       [-0.45466464,  0.64158359,  0.15242752],\n",
              "       [ 0.19336002,  0.15242752,  0.93517554]])"
            ]
          },
          "metadata": {},
          "execution_count": 76
        }
      ]
    },
    {
      "cell_type": "markdown",
      "source": [
        "Your task here is \"simple\": Implement the MCA algorithm\n",
        "to compute the matrix inverse. Consult the description in\n",
        "section 12.4. Test your algorithm by computing the inverse of\n",
        "random matrices and compare against the Python/MATLAB\n",
        "inv functions."
      ],
      "metadata": {
        "id": "zjDUbzeq1h52"
      }
    },
    {
      "cell_type": "code",
      "source": [
        "np.random.seed(42)\n",
        "\n",
        "#A = np.random.randint(0,10,size=(4,4))\n",
        "\n",
        "A = np.array([[2,1,1],[0,4,2],[1,3,2]])\n",
        "B = np.zeros((A.shape[0]-1,A.shape[1]-1))\n",
        "D = np.zeros((3,3)) \n",
        "\n",
        "M = np.zeros(A.shape)\n",
        "C = np.zeros((A.shape[0],A.shape[1])) \n",
        "\n",
        "det = np.linalg.det(A)\n",
        "print(A)\n",
        "print(\"\\n\")\n",
        "\n",
        "if (det!= 0):\n",
        "\n",
        "  for i in range(A.shape[0]):\n",
        "    for j in range(A.shape[1]):\n",
        "      M[i,j] = np.linalg.det(np.delete(np.delete(A,i,axis=0),j,axis=1)) \n",
        "      C[i,j] = M[i,j]*((-1)**(i+j))\n",
        "\n",
        "\n",
        "  Ainv = (1/det)*C.T \n",
        "  print(\"\\n\")\n",
        "  print(\"M=\\n\",M)\n",
        "  print(\"\\n\")\n",
        "  print(\"C=\\n\",C)\n",
        "  print(\"\\n\")\n",
        "  \n",
        "  print(\"Ainv=\\n\",Ainv)\n",
        "\n",
        "else:\n",
        "  print(\"Determinant sıfır\")\n",
        "\n"
      ],
      "metadata": {
        "colab": {
          "base_uri": "https://localhost:8080/"
        },
        "id": "jdnlCE5B1lUF",
        "outputId": "6c468b1d-bcc7-4e2d-92e1-c5f2007036dc"
      },
      "execution_count": null,
      "outputs": [
        {
          "output_type": "stream",
          "name": "stdout",
          "text": [
            "[[2 1 1]\n",
            " [0 4 2]\n",
            " [1 3 2]]\n",
            "\n",
            "\n",
            "\n",
            "\n",
            "M=\n",
            " [[ 2. -2. -4.]\n",
            " [-1.  3.  5.]\n",
            " [-2.  4.  8.]]\n",
            "\n",
            "\n",
            "C=\n",
            " [[ 2.  2. -4.]\n",
            " [ 1.  3. -5.]\n",
            " [-2. -4.  8.]]\n",
            "\n",
            "\n",
            "Ainv=\n",
            " [[ 1.   0.5 -1. ]\n",
            " [ 1.   1.5 -2. ]\n",
            " [-2.  -2.5  4. ]]\n"
          ]
        }
      ]
    },
    {
      "cell_type": "code",
      "source": [
        "a = list(np.array([-2,-1]))\n",
        "b = list(np.array([3,-1]))\n",
        "beta = (-1)\n",
        "fark = list(np.array(b) - beta*np.array(a))\n",
        "\n",
        "print(fark)\n",
        "fig,ax = plt.subplots(2,3,figsize=(10,10))\n",
        "\n",
        "\n",
        "ax[0,0].plot([0,a[0]],[0,a[1]],'rs-',label=\"a\")\n",
        "ax[0,0].grid()\n",
        "ax[0,1].plot([0,b[0]],[0,b[1]],'bs-',label=\"b\")\n",
        "ax[0,1].grid()\n",
        "\n",
        "ax[0,2].plot([0,b[0]],[0,b[1]],'bs-',label=\"b\")\n",
        "ax[0,2].plot([b[0],b[0]-beta*a[0]],[b[1],b[1]-beta*a[1]],'rs-',label=\"-a\")\n",
        "ax[0,2].plot([0,fark[0]],[0,fark[1]],'gs-',label=\"fark\")\n",
        "ax[0,2].plot([0,a[0]],[0,a[1]],'rs-',label=\"a\")\n",
        "\n",
        "ax[0,2].grid()\n",
        "#plt.plot([0,a[0]],[0,a[1]],'rs-',label=\"a\")\n",
        "\n",
        "\n",
        "\n",
        "\n"
      ],
      "metadata": {
        "colab": {
          "base_uri": "https://localhost:8080/",
          "height": 610
        },
        "id": "y6MIFECGtQW7",
        "outputId": "fce0be2d-cc1c-4134-d895-11d34b26ac51"
      },
      "execution_count": null,
      "outputs": [
        {
          "output_type": "stream",
          "name": "stdout",
          "text": [
            "[1, -2]\n"
          ]
        },
        {
          "output_type": "display_data",
          "data": {
            "image/png": "[encoded data removed]",
            "text/plain": [
              "<Figure size 720x720 with 6 Axes>"
            ]
          },
          "metadata": {
            "needs_background": "light"
          }
        }
      ]
    },
    {
      "cell_type": "code",
      "source": [
        "a = np.array([-0.5,2])\n",
        "b = np.array([-0.5,2])\n",
        "\n",
        "\n",
        "projb = ((a.T@a) / (a.T@b))*a\n",
        "print(a.T@a,\"\\n\")\n",
        "print(a.T@b,\"\\n\")\n",
        "print(projb)"
      ],
      "metadata": {
        "colab": {
          "base_uri": "https://localhost:8080/"
        },
        "id": "sgUtsoa232Tf",
        "outputId": "2db399b8-a789-493a-bec0-48b329ce72c1"
      },
      "execution_count": null,
      "outputs": [
        {
          "output_type": "stream",
          "name": "stdout",
          "text": [
            "4.25 \n",
            "\n",
            "4.25 \n",
            "\n",
            "[-0.5  2. ]\n"
          ]
        }
      ]
    },
    {
      "cell_type": "code",
      "source": [
        "A = [ [ 1 , 2 ] , [ 3 , 1 ] , [ 1 , 1 ] ]\n",
        "b = [ 5.5 , -3.5 , 1.5 ]\n",
        "x1 = np . linalg.lstsq (A, b) [ 0 ]\n",
        "print(x1);\n",
        "\n",
        "x2 = np.linalg.pinv(A)\n",
        "\n",
        "print(x2@b)"
      ],
      "metadata": {
        "colab": {
          "base_uri": "https://localhost:8080/"
        },
        "id": "sIxvE2DtXQA9",
        "outputId": "d268e3a9-0f1e-4049-a8b5-f1c63e57e23e"
      },
      "execution_count": null,
      "outputs": [
        {
          "output_type": "stream",
          "name": "stdout",
          "text": [
            "[-2.5  4. ]\n",
            "[-2.5  4. ]\n"
          ]
        },
        {
          "output_type": "stream",
          "name": "stderr",
          "text": [
            "/usr/local/lib/python3.7/dist-packages/ipykernel_launcher.py:3: FutureWarning: `rcond` parameter will change to the default of machine precision times ``max(M, N)`` where M and N are the input matrix dimensions.\n",
            "To use the future default and silence this warning we advise to pass `rcond=None`, to keep using the old, explicitly pass `rcond=-1`.\n",
            "  This is separate from the ipykernel package so we can avoid doing imports until\n"
          ]
        }
      ]
    },
    {
      "cell_type": "markdown",
      "source": [
        "Imagine you work as a data scientist in a company that sells widgets\n",
        "online. The company gives you a dataset of information from\n",
        "1000 sales, which includes the time of the sale (listed in hours of\n",
        "the day using a 24-hour clock, e.g., 15 = 3pm), the age of the buyer\n",
        "(in years), and the number of widgets sold. The data are available\n",
        "at sincxpress.com/widget_data.txt (Note: these are data I made\n",
        "up for this exercise.)\n",
        "\n",
        "1. Explain and write down a mathematical model that is appropriate\n",
        "for this dataset.\n",
        "2. Write the matrix equation corresponding to the model, and\n",
        "describe the columns in the design matrix.\n",
        "3. Compute the model coefficients using the least-squares algorithm\n",
        "in MATLAB or Python. You can also divide the \f\n",
        "coefficients by the standard deviations of the corresponding\n",
        "independent variables, which puts the various model terms in\n",
        "the same scale and therefore more comparable.\n",
        "4. Produce scatter plots that visualize the relationship between\n",
        "the independent and dependent variables.\n",
        "5. One measure of how well the model fits the data is called\n",
        "R2 (\"R-squared\"), and can be interpreted as the proportion\n",
        "of variance in the dependent variable that is explained by the\n",
        "design matrix. Thus, an R2 of 1 indicates a perfect fit between\n",
        "the model. The definition of R2 is\n",
        "![image.png](data:image/png;base64,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)\n",
        "\n",
        "\n",
        "ei is the error (residual) at each data point that was introduced\n",
        "earlier, and ¯y is the average of all elements in y.\n",
        "Compute R2 for the model to see how well it fits the data. Are\n",
        "you surprised, based on what you see in the scatterplots?"
      ],
      "metadata": {
        "id": "O_SK_-LV9GL7"
      }
    },
    {
      "cell_type": "code",
      "source": [
        "data = pd.read_csv(\"/content/drive/MyDrive/Data Science/Python/Örnek Veriler/widget_data.txt\")\n",
        "cols = [\"age\",\"hour\",\"sold\"]\n",
        "data2 = data[cols]\n",
        "data3 = np.loadtxt(fname='https://sincxpress.com/widget_data.txt', delimiter=',')\n",
        "\n",
        "#1\n",
        "#sold = intercept + beta2*age + beta3*hour\n",
        "\n",
        "#2\n",
        "#The matrix equation is Xbeta = y. X has three columns: intercept, which is all 1’s; time of day; age.\n",
        "# design matrix\n",
        "\n",
        "X = np.concatenate((np.ones((1000,1)),data3[:,:2]), axis=1)\n",
        "\n",
        "# outcome v a r i a b l e\n",
        "y = data3[:,2]\n",
        "\n",
        "# beta c o e f f i c i e n t s\n",
        "beta = np.linalg.lstsq(X,y)[0]\n",
        "\n",
        "# s c a l e d c o e f f i c i e n t s ( i n t e r c e p t not s c a l e d )\n",
        "betaScaled = beta /np.std (X, axis=0, ddof=1)"
      ],
      "metadata": {
        "colab": {
          "base_uri": "https://localhost:8080/"
        },
        "id": "8YEmb1kR8ew9",
        "outputId": "a2f83ddc-711f-424b-a583-630ab5852477"
      },
      "execution_count": null,
      "outputs": [
        {
          "output_type": "stream",
          "name": "stderr",
          "text": [
            "/usr/local/lib/python3.7/dist-packages/ipykernel_launcher.py:20: FutureWarning: `rcond` parameter will change to the default of machine precision times ``max(M, N)`` where M and N are the input matrix dimensions.\n",
            "To use the future default and silence this warning we advise to pass `rcond=None`, to keep using the old, explicitly pass `rcond=-1`.\n",
            "/usr/local/lib/python3.7/dist-packages/ipykernel_launcher.py:23: RuntimeWarning: divide by zero encountered in true_divide\n"
          ]
        }
      ]
    },
    {
      "cell_type": "code",
      "source": [
        "\n",
        "fig , ax = plt.subplots(1,2, figsize=(8 ,4))\n",
        "ax [ 0 ].plot(X[:,1],y,'o' , markerfacecolor='k')\n",
        "ax [ 0 ].set_title('Time variable')\n",
        "ax [ 0 ].set_xlabel('Time of day')\n",
        "ax [ 0 ].set_ylabel('Widgets purchased')\n",
        "\n",
        "ax [ 1 ] . plot(X[:,2], y , 'o' , markerfacecolor= 'k' )\n",
        "ax [ 1 ] . set_title( 'Age variable')\n",
        "ax [ 1 ] . set_xlabel('Age')\n",
        "ax [ 1 ] . set_ylabel('Widgets purchased')\n",
        "plt . show( )"
      ],
      "metadata": {
        "colab": {
          "base_uri": "https://localhost:8080/",
          "height": 295
        },
        "id": "7SV_qQ-_QSHa",
        "outputId": "782aefe3-3e6a-49c5-aed3-1815d4a92ff1"
      },
      "execution_count": null,
      "outputs": [
        {
          "output_type": "display_data",
          "data": {
            "image/png": "[encoded data removed]",
            "text/plain": [
              "<Figure size 576x288 with 2 Axes>"
            ]
          },
          "metadata": {
            "needs_background": "light"
          }
        }
      ]
    },
    {
      "cell_type": "code",
      "source": [
        "yHat = X@beta\n",
        "\n",
        "print(np.sum((y-np.mean(y))**2))"
      ],
      "metadata": {
        "colab": {
          "base_uri": "https://localhost:8080/"
        },
        "id": "_1z8YU_kUQSa",
        "outputId": "0d4b08d2-ab19-4a21-9dd9-146bfc01bfa0"
      },
      "execution_count": null,
      "outputs": [
        {
          "output_type": "stream",
          "name": "stdout",
          "text": [
            "16285.071\n"
          ]
        }
      ]
    },
    {
      "cell_type": "code",
      "source": [
        "yHat = X@beta\n",
        "\n",
        "R2 = 1 - np.sum((y-yHat)**2) / np.sum((y-np.mean(y))**2)\n",
        "\n",
        "print(R2)"
      ],
      "metadata": {
        "colab": {
          "base_uri": "https://localhost:8080/"
        },
        "id": "MbA6owedTF6I",
        "outputId": "a0f72d97-a2ec-40a9-8597-2029629571f7"
      },
      "execution_count": null,
      "outputs": [
        {
          "output_type": "stream",
          "name": "stdout",
          "text": [
            "0.3663899451013619\n"
          ]
        }
      ]
    },
    {
      "cell_type": "markdown",
      "source": [
        "Diagolanization vs eigendecomposition"
      ],
      "metadata": {
        "id": "pWgUeQbZXSJR"
      }
    },
    {
      "cell_type": "code",
      "source": [
        "A = np . array ( [ [ 2 , 3 ] , [ 3 , 2 ] ] )\n",
        "L,V = np . linalg . eig (A)\n",
        "\n",
        "print(\"L \\n\",L)\n",
        "print(\"\\n\")\n",
        "print(\"V \\n\",V)\n",
        "print(\"\\n\")\n",
        "print(V@np.diag(L)@np.linalg.inv(V))"
      ],
      "metadata": {
        "colab": {
          "base_uri": "https://localhost:8080/"
        },
        "id": "-O6uzQwxXW4a",
        "outputId": "14e34af2-6cf0-459b-bfa4-86557dc2c336"
      },
      "execution_count": null,
      "outputs": [
        {
          "output_type": "stream",
          "name": "stdout",
          "text": [
            "L \n",
            " [ 5. -1.]\n",
            "\n",
            "\n",
            "V \n",
            " [[ 0.70710678 -0.70710678]\n",
            " [ 0.70710678  0.70710678]]\n",
            "\n",
            "\n",
            "[[2. 3.]\n",
            " [3. 2.]]\n"
          ]
        }
      ]
    },
    {
      "cell_type": "code",
      "source": [
        "B = np . array ( [ [ 2 , 3 ,-6, 9 ] , [ 3 , 2,-5,1 ],[-6,-5,-2,11],[9,1,11,3] ] )\n",
        "\n",
        "L,V = np.linalg.eig(B)\n",
        "\n",
        "print(V@np.diag(L)@np.linalg.inv(V))\n",
        "\n",
        "print(np.round(V[:,0]@V[:,2]))"
      ],
      "metadata": {
        "id": "t5iRTDJEwNQJ",
        "colab": {
          "base_uri": "https://localhost:8080/"
        },
        "outputId": "4a779e39-16f1-4188-cdda-595c3d7aab91"
      },
      "execution_count": null,
      "outputs": [
        {
          "output_type": "stream",
          "name": "stdout",
          "text": [
            "[[ 2.  3. -6.  9.]\n",
            " [ 3.  2. -5.  1.]\n",
            " [-6. -5. -2. 11.]\n",
            " [ 9.  1. 11.  3.]]\n",
            "-0.0\n"
          ]
        }
      ]
    },
    {
      "cell_type": "code",
      "source": [
        "#v1 = np.array([[-1/(2**0.5),1/(2**0.5)]])\n",
        "#v2 = np.array([[1/(2**0.5),1/(2**0.5)]])\n",
        "\n",
        "v1 = np.array([[2.5,1]])\n",
        "v2 = np.array([[0.75,1.5]])\n",
        "\n",
        "l1 =1\n",
        "l2=3\n",
        "\n",
        "A1=v1.T*l1@v1\n",
        "A2=v2.T*l2@v2\n",
        "\n",
        "A = A1 + A2\n",
        "\n",
        "print(A)\n",
        "\n"
      ],
      "metadata": {
        "colab": {
          "base_uri": "https://localhost:8080/"
        },
        "id": "o3l1hOumW7f_",
        "outputId": "8d4253ad-17b1-455a-db82-caa433a1a9cb"
      },
      "execution_count": null,
      "outputs": [
        {
          "output_type": "stream",
          "name": "stdout",
          "text": [
            "[[7.9375 5.875 ]\n",
            " [5.875  7.75  ]]\n"
          ]
        }
      ]
    },
    {
      "cell_type": "code",
      "source": [
        "A = np.array([[2.5 ,0.75] , [1 , 1.5]])\n",
        "L,V = np.linalg.eig(A)\n",
        "\n",
        "print(L)\n",
        "\n",
        "print(V)\n",
        "\n",
        "v1 = np.array([V[:,0]]).T\n",
        "v2 = np.array([V[:,1]]).T\n",
        "\n",
        "l1 = L[0]\n",
        "l2 = L[1]\n",
        "\n",
        "W = (np.linalg.inv(V)).T\n",
        "\n",
        "w1 = np.array([W[:,0]])\n",
        "w2 = np.array([W[:,1]])\n",
        "\n",
        "b1=v1*l1@w1\n",
        "b2=v2*l2@w2\n",
        "\n",
        "B = b1+b2\n",
        "\n",
        "print(B)"
      ],
      "metadata": {
        "id": "H6cZRZ7rUix9"
      },
      "execution_count": null,
      "outputs": []
    },
    {
      "cell_type": "code",
      "source": [
        "V = np.array([[1 ,2] , [0 , 1]])\n",
        "L = np.array([2 ,3])\n",
        "\n",
        "v1 = np.array([V[:,0]]).T\n",
        "v2 = np.array([V[:,1]]).T\n",
        "\n",
        "W = (np.linalg.inv(V)).T\n",
        "\n",
        "b1=v1*L[0]@np.array([W[:,0]])\n",
        "b2=v2*L[1]@np.array([W[:,1]])\n",
        "\n",
        "B = b1+b2\n",
        "\n",
        "print(B)\n"
      ],
      "metadata": {
        "colab": {
          "base_uri": "https://localhost:8080/"
        },
        "id": "JrPGbfXCVDFQ",
        "outputId": "0670d3c0-61d7-4161-d660-8b9790f3a3fb"
      },
      "execution_count": null,
      "outputs": [
        {
          "output_type": "stream",
          "name": "stdout",
          "text": [
            "[[2. 2.]\n",
            " [0. 3.]]\n"
          ]
        }
      ]
    },
    {
      "cell_type": "code",
      "source": [
        "#Matrisin üssünü hesaplamak için\n",
        "A = np.array([[4 ,-2] , [-1 , 5]])\n",
        "L,V = np.linalg.eig(A)\n",
        "\n",
        "D = np.diag(L)\n",
        "\n",
        "A3 = V@D**3@(np.linalg.inv(V))\n",
        "\n",
        "print(A3)\n",
        "print(\"\\n\")\n",
        "\n",
        "print(D)\n",
        "\n",
        "print(D**3)\n"
      ],
      "metadata": {
        "colab": {
          "base_uri": "https://localhost:8080/"
        },
        "id": "XcPBhnoEc3DZ",
        "outputId": "3d922ebf-3e3e-44df-926d-024ee376c28e"
      },
      "execution_count": null,
      "outputs": [
        {
          "output_type": "stream",
          "name": "stdout",
          "text": [
            "[[  90. -126.]\n",
            " [ -63.  153.]]\n",
            "\n",
            "\n",
            "[[3. 0.]\n",
            " [0. 6.]]\n",
            "[[ 27.   0.]\n",
            " [  0. 216.]]\n"
          ]
        }
      ]
    },
    {
      "cell_type": "markdown",
      "source": [
        "Generalized eigendecomposition is easy to implement. Just\n",
        "be mindful of the order of function inputs: Following Equation\n",
        "15.52, A must be the first input and B must be the second input.\n",
        "Numpy cannot perform generalized eigendecomposition (at\n",
        "the time of this writing), but scipy’s implementation can."
      ],
      "metadata": {
        "id": "37oTeDxk_qMY"
      }
    },
    {
      "cell_type": "code",
      "source": [
        "import numpy as np\n",
        "n = 3\n",
        "A = np . random. randn (n , n)\n",
        "B = np . random. randn (n , n)\n",
        "evals,evecs = eig(A,B)\n",
        "\n",
        "print(evals)\n",
        "print(\"\\n\")\n",
        "print(evecs)"
      ],
      "metadata": {
        "colab": {
          "base_uri": "https://localhost:8080/"
        },
        "id": "ohU72xWqf47e",
        "outputId": "e0a1329f-db6f-4a82-8556-b682f81d8a9f"
      },
      "execution_count": null,
      "outputs": [
        {
          "output_type": "stream",
          "name": "stdout",
          "text": [
            "[ 2.19183921+0.j -0.35734457+0.j -1.57469912+0.j]\n",
            "\n",
            "\n",
            "[[ 0.38555831 -0.35080659  0.3899065 ]\n",
            " [ 0.43976323  0.56283879  0.75374348]\n",
            " [ 0.81114307  0.74842985  0.52900253]]\n"
          ]
        }
      ]
    },
    {
      "cell_type": "markdown",
      "source": [
        "In this code challenge, you will explore the relationship between\n",
        "Equations 15.47 and 15.52 in the section on generalized\n",
        "eigendecomposition. Create two matrices A and B. Then perform\n",
        "(1) generalized eigendecomposition of both matrices, and\n",
        "(2) \"regular\" eigendecomposition on the matrix B−1A; inspect\n",
        "whether the eigenvalues are the same. Try this for 2×2 matrices,\n",
        "and then again for larger matrices like 10×10 or 50×50.\n",
        "Do you also need to compare the eigenvectors or is it sufficient\n",
        "to compare the eigenvalues?"
      ],
      "metadata": {
        "id": "yGpAimqCCgKz"
      }
    },
    {
      "cell_type": "code",
      "source": [
        "avediffs = np.zeros(100)\n",
        "for n in range (1 , 101) :\n",
        "  A = np . random. randn(n , n)\n",
        "  B = np . random. randn(n , n)\n",
        "  l1 = eig (A,B) [ 0 ]\n",
        "  l2 = eig (np . linalg.inv(B)@A) [ 0 ]\n",
        "\n",
        "# important to s o r t e i g v a l s\n",
        "  l1.sort()\n",
        "  l2.sort()\n",
        "\n",
        "  avediffs[n-1] = np.mean(np.abs(l1-l2))\n",
        "\n",
        "plt.plot(avediffs) ;\n",
        "\n"
      ],
      "metadata": {
        "colab": {
          "base_uri": "https://localhost:8080/",
          "height": 265
        },
        "id": "QM8swmkuABXQ",
        "outputId": "0869cea6-532b-448d-d3f4-e3b6e67f040b"
      },
      "execution_count": null,
      "outputs": [
        {
          "output_type": "display_data",
          "data": {
            "image/png": "[encoded data removed]",
            "text/plain": [
              "<Figure size 432x288 with 1 Axes>"
            ]
          },
          "metadata": {
            "needs_background": "light"
          }
        }
      ]
    },
    {
      "cell_type": "code",
      "source": [
        "k1 = eig (A,B) [ 0 ]\n",
        "\n",
        "print(k1)"
      ],
      "metadata": {
        "colab": {
          "base_uri": "https://localhost:8080/"
        },
        "id": "qC29uILgEwoC",
        "outputId": "235cb001-4337-4bb5-d275-1bd072e928a1"
      },
      "execution_count": null,
      "outputs": [
        {
          "output_type": "stream",
          "name": "stdout",
          "text": [
            "[-2.58431540e+01+0.j          5.42262213e+00+0.j\n",
            " -4.35671095e+00+0.j         -3.19341717e+00+2.25569727j\n",
            " -3.19341717e+00-2.25569727j  3.43658403e+00+0.29953797j\n",
            "  3.43658403e+00-0.29953797j  1.19191506e+00+2.97600932j\n",
            "  1.19191506e+00-2.97600932j -2.08835484e+00+1.88817156j\n",
            " -2.08835484e+00-1.88817156j -2.69788175e+00+0.3863292j\n",
            " -2.69788175e+00-0.3863292j   1.33146895e+00+2.37278423j\n",
            "  1.33146895e+00-2.37278423j -5.13739371e-01+2.62506004j\n",
            " -5.13739371e-01-2.62506004j -1.15868923e+00+2.1519095j\n",
            " -1.15868923e+00-2.1519095j   2.19215868e+00+0.34239121j\n",
            "  2.19215868e+00-0.34239121j  1.74060054e+00+0.76248739j\n",
            "  1.74060054e+00-0.76248739j -1.38437145e+00+1.23487805j\n",
            " -1.38437145e+00-1.23487805j -1.72663690e+00+0.24729386j\n",
            " -1.72663690e+00-0.24729386j -4.64604683e-01+1.62611555j\n",
            " -4.64604683e-01-1.62611555j  5.17643221e-01+1.50065885j\n",
            "  5.17643221e-01-1.50065885j -1.12653192e+00+1.02173992j\n",
            " -1.12653192e+00-1.02173992j  2.07796067e-01+1.38757772j\n",
            "  2.07796067e-01-1.38757772j  7.51685323e-01+1.11377708j\n",
            "  7.51685323e-01-1.11377708j  1.05380144e+00+0.80564443j\n",
            "  1.05380144e+00-0.80564443j -1.26649973e+00+0.j\n",
            "  1.22099658e+00+0.16657081j  1.22099658e+00-0.16657081j\n",
            "  1.09244511e+00+0.53085699j  1.09244511e+00-0.53085699j\n",
            "  9.07126208e-01+0.75961552j  9.07126208e-01-0.75961552j\n",
            " -1.10807662e+00+0.38577803j -1.10807662e+00-0.38577803j\n",
            " -2.95507446e-01+0.96542869j -2.95507446e-01-0.96542869j\n",
            " -6.39085683e-01+0.70164322j -6.39085683e-01-0.70164322j\n",
            " -5.31314211e-01+0.75892704j -5.31314211e-01-0.75892704j\n",
            " -2.91886940e-01+0.87712836j -2.91886940e-01-0.87712836j\n",
            "  8.46130466e-01+0.j          7.54150079e-01+0.34298771j\n",
            "  7.54150079e-01-0.34298771j  7.54555039e-02+0.8468988j\n",
            "  7.54555039e-02-0.8468988j  -7.78422735e-01+0.0852354j\n",
            " -7.78422735e-01-0.0852354j   4.06706053e-01+0.66704101j\n",
            "  4.06706053e-01-0.66704101j -4.19094227e-01+0.59567951j\n",
            " -4.19094227e-01-0.59567951j -5.87790456e-01+0.23020592j\n",
            " -5.87790456e-01-0.23020592j  2.60157146e-01+0.59473007j\n",
            "  2.60157146e-01-0.59473007j  5.22728693e-02+0.63459114j\n",
            "  5.22728693e-02-0.63459114j  6.40079769e-01+0.j\n",
            " -5.08096159e-01+0.05266893j -5.08096159e-01-0.05266893j\n",
            "  1.54065074e-01+0.51195302j  1.54065074e-01-0.51195302j\n",
            " -3.63196811e-01+0.1097566j  -3.63196811e-01-0.1097566j\n",
            " -2.33369540e-01+0.25669215j -2.33369540e-01-0.25669215j\n",
            " -1.75639081e-01+0.3008986j  -1.75639081e-01-0.3008986j\n",
            " -2.73139202e-01+0.j          5.34941606e-02+0.40938948j\n",
            "  5.34941606e-02-0.40938948j  8.17738943e-02+0.32933872j\n",
            "  8.17738943e-02-0.32933872j  4.77081707e-01+0.j\n",
            "  4.19253038e-01+0.j          3.04771237e-01+0.17221448j\n",
            "  3.04771237e-01-0.17221448j  4.61764169e-02+0.20263162j\n",
            "  4.61764169e-02-0.20263162j  2.42385241e-01+0.11489071j\n",
            "  2.42385241e-01-0.11489071j  1.14903881e-01+0.02960631j\n",
            "  1.14903881e-01-0.02960631j -5.26615845e-04+0.j        ]\n"
          ]
        }
      ]
    },
    {
      "cell_type": "code",
      "source": [
        ""
      ],
      "metadata": {
        "id": "kUJwxK-5EOmX"
      },
      "execution_count": null,
      "outputs": []
    }
  ],
  "metadata": {
    "colab": {
      "collapsed_sections": [
        "UVelnZcNn9RN",
        "LKOMqoTU7TOn"
      ],
      "name": "DataScienceFromSratch_JuelGrus.ipynb",
      "provenance": [],
      "mount_file_id": "1mD0ZVf1OLKqCyHt8M9nEz-zjSY3SV_o-",
      "authorship_tag": "ABX9TyO72tBxm+p4kvcTTbEPxeTn",
      "include_colab_link": true
    },
    "kernelspec": {
      "display_name": "Python 3",
      "name": "python3"
    },
    "language_info": {
      "name": "python"
    }
  },
  "nbformat": 4,
  "nbformat_minor": 0
}